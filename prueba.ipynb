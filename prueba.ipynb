{
 "cells": [
  {
   "cell_type": "markdown",
   "metadata": {},
   "source": [
    "# Install Packages"
   ]
  },
  {
   "cell_type": "code",
   "execution_count": 2,
   "metadata": {},
   "outputs": [
    {
     "name": "stdout",
     "output_type": "stream",
     "text": [
      "Requirement already satisfied: pandas in /home/codespace/.local/lib/python3.10/site-packages (2.2.2)\n",
      "Requirement already satisfied: IPython in /home/codespace/.local/lib/python3.10/site-packages (8.26.0)\n",
      "Requirement already satisfied: numpy>=1.22.4 in /home/codespace/.local/lib/python3.10/site-packages (from pandas) (2.0.0)\n",
      "Requirement already satisfied: python-dateutil>=2.8.2 in /home/codespace/.local/lib/python3.10/site-packages (from pandas) (2.9.0.post0)\n",
      "Requirement already satisfied: pytz>=2020.1 in /home/codespace/.local/lib/python3.10/site-packages (from pandas) (2024.1)\n",
      "Requirement already satisfied: tzdata>=2022.7 in /home/codespace/.local/lib/python3.10/site-packages (from pandas) (2024.1)\n",
      "Requirement already satisfied: decorator in /home/codespace/.local/lib/python3.10/site-packages (from IPython) (5.1.1)\n",
      "Requirement already satisfied: jedi>=0.16 in /home/codespace/.local/lib/python3.10/site-packages (from IPython) (0.19.1)\n",
      "Requirement already satisfied: matplotlib-inline in /home/codespace/.local/lib/python3.10/site-packages (from IPython) (0.1.7)\n",
      "Requirement already satisfied: prompt-toolkit<3.1.0,>=3.0.41 in /home/codespace/.local/lib/python3.10/site-packages (from IPython) (3.0.47)\n",
      "Requirement already satisfied: pygments>=2.4.0 in /home/codespace/.local/lib/python3.10/site-packages (from IPython) (2.18.0)\n",
      "Requirement already satisfied: stack-data in /home/codespace/.local/lib/python3.10/site-packages (from IPython) (0.6.3)\n",
      "Requirement already satisfied: traitlets>=5.13.0 in /home/codespace/.local/lib/python3.10/site-packages (from IPython) (5.14.3)\n",
      "Requirement already satisfied: exceptiongroup in /home/codespace/.local/lib/python3.10/site-packages (from IPython) (1.2.1)\n",
      "Requirement already satisfied: typing-extensions>=4.6 in /home/codespace/.local/lib/python3.10/site-packages (from IPython) (4.12.2)\n",
      "Requirement already satisfied: pexpect>4.3 in /home/codespace/.local/lib/python3.10/site-packages (from IPython) (4.9.0)\n",
      "Requirement already satisfied: parso<0.9.0,>=0.8.3 in /home/codespace/.local/lib/python3.10/site-packages (from jedi>=0.16->IPython) (0.8.4)\n",
      "Requirement already satisfied: ptyprocess>=0.5 in /home/codespace/.local/lib/python3.10/site-packages (from pexpect>4.3->IPython) (0.7.0)\n",
      "Requirement already satisfied: wcwidth in /home/codespace/.local/lib/python3.10/site-packages (from prompt-toolkit<3.1.0,>=3.0.41->IPython) (0.2.13)\n",
      "Requirement already satisfied: six>=1.5 in /home/codespace/.local/lib/python3.10/site-packages (from python-dateutil>=2.8.2->pandas) (1.16.0)\n",
      "Requirement already satisfied: executing>=1.2.0 in /home/codespace/.local/lib/python3.10/site-packages (from stack-data->IPython) (2.0.1)\n",
      "Requirement already satisfied: asttokens>=2.1.0 in /home/codespace/.local/lib/python3.10/site-packages (from stack-data->IPython) (2.4.1)\n",
      "Requirement already satisfied: pure-eval in /home/codespace/.local/lib/python3.10/site-packages (from stack-data->IPython) (0.2.2)\n",
      "\n",
      "\u001b[1m[\u001b[0m\u001b[34;49mnotice\u001b[0m\u001b[1;39;49m]\u001b[0m\u001b[39;49m A new release of pip is available: \u001b[0m\u001b[31;49m24.1.2\u001b[0m\u001b[39;49m -> \u001b[0m\u001b[32;49m24.2\u001b[0m\n",
      "\u001b[1m[\u001b[0m\u001b[34;49mnotice\u001b[0m\u001b[1;39;49m]\u001b[0m\u001b[39;49m To update, run: \u001b[0m\u001b[32;49mpython -m pip install --upgrade pip\u001b[0m\n",
      "Note: you may need to restart the kernel to use updated packages.\n"
     ]
    }
   ],
   "source": [
    "%pip install pandas IPython"
   ]
  },
  {
   "cell_type": "markdown",
   "metadata": {},
   "source": [
    "# Import libraries"
   ]
  },
  {
   "cell_type": "code",
   "execution_count": 6,
   "metadata": {},
   "outputs": [
    {
     "name": "stdout",
     "output_type": "stream",
     "text": [
      "Requirement already satisfied: pandas in /home/codespace/.local/lib/python3.10/site-packages (2.2.2)\n",
      "Requirement already satisfied: IPython in /home/codespace/.local/lib/python3.10/site-packages (8.26.0)\n",
      "Requirement already satisfied: numpy>=1.22.4 in /home/codespace/.local/lib/python3.10/site-packages (from pandas) (2.0.0)\n",
      "Requirement already satisfied: python-dateutil>=2.8.2 in /home/codespace/.local/lib/python3.10/site-packages (from pandas) (2.9.0.post0)\n",
      "Requirement already satisfied: pytz>=2020.1 in /home/codespace/.local/lib/python3.10/site-packages (from pandas) (2024.1)\n",
      "Requirement already satisfied: tzdata>=2022.7 in /home/codespace/.local/lib/python3.10/site-packages (from pandas) (2024.1)\n",
      "Requirement already satisfied: decorator in /home/codespace/.local/lib/python3.10/site-packages (from IPython) (5.1.1)\n",
      "Requirement already satisfied: jedi>=0.16 in /home/codespace/.local/lib/python3.10/site-packages (from IPython) (0.19.1)\n",
      "Requirement already satisfied: matplotlib-inline in /home/codespace/.local/lib/python3.10/site-packages (from IPython) (0.1.7)\n",
      "Requirement already satisfied: prompt-toolkit<3.1.0,>=3.0.41 in /home/codespace/.local/lib/python3.10/site-packages (from IPython) (3.0.47)\n",
      "Requirement already satisfied: pygments>=2.4.0 in /home/codespace/.local/lib/python3.10/site-packages (from IPython) (2.18.0)\n",
      "Requirement already satisfied: stack-data in /home/codespace/.local/lib/python3.10/site-packages (from IPython) (0.6.3)\n",
      "Requirement already satisfied: traitlets>=5.13.0 in /home/codespace/.local/lib/python3.10/site-packages (from IPython) (5.14.3)\n",
      "Requirement already satisfied: exceptiongroup in /home/codespace/.local/lib/python3.10/site-packages (from IPython) (1.2.1)\n",
      "Requirement already satisfied: typing-extensions>=4.6 in /home/codespace/.local/lib/python3.10/site-packages (from IPython) (4.12.2)\n",
      "Requirement already satisfied: pexpect>4.3 in /home/codespace/.local/lib/python3.10/site-packages (from IPython) (4.9.0)\n",
      "Requirement already satisfied: parso<0.9.0,>=0.8.3 in /home/codespace/.local/lib/python3.10/site-packages (from jedi>=0.16->IPython) (0.8.4)\n",
      "Requirement already satisfied: ptyprocess>=0.5 in /home/codespace/.local/lib/python3.10/site-packages (from pexpect>4.3->IPython) (0.7.0)\n",
      "Requirement already satisfied: wcwidth in /home/codespace/.local/lib/python3.10/site-packages (from prompt-toolkit<3.1.0,>=3.0.41->IPython) (0.2.13)\n",
      "Requirement already satisfied: six>=1.5 in /home/codespace/.local/lib/python3.10/site-packages (from python-dateutil>=2.8.2->pandas) (1.16.0)\n",
      "Requirement already satisfied: executing>=1.2.0 in /home/codespace/.local/lib/python3.10/site-packages (from stack-data->IPython) (2.0.1)\n",
      "Requirement already satisfied: asttokens>=2.1.0 in /home/codespace/.local/lib/python3.10/site-packages (from stack-data->IPython) (2.4.1)\n",
      "Requirement already satisfied: pure-eval in /home/codespace/.local/lib/python3.10/site-packages (from stack-data->IPython) (0.2.2)\n",
      "\n",
      "\u001b[1m[\u001b[0m\u001b[34;49mnotice\u001b[0m\u001b[1;39;49m]\u001b[0m\u001b[39;49m A new release of pip is available: \u001b[0m\u001b[31;49m24.1.2\u001b[0m\u001b[39;49m -> \u001b[0m\u001b[32;49m24.2\u001b[0m\n",
      "\u001b[1m[\u001b[0m\u001b[34;49mnotice\u001b[0m\u001b[1;39;49m]\u001b[0m\u001b[39;49m To update, run: \u001b[0m\u001b[32;49mpython -m pip install --upgrade pip\u001b[0m\n",
      "Note: you may need to restart the kernel to use updated packages.\n"
     ]
    }
   ],
   "source": [
    "from IPython.display import display\n",
    "import pandas as pd\n",
    "import io\n",
    "import os\n",
    "import re\n"
   ]
  },
  {
   "cell_type": "markdown",
   "metadata": {},
   "source": [
    "# Path to the CSV file in your workspace"
   ]
  },
  {
   "cell_type": "code",
   "execution_count": 14,
   "metadata": {},
   "outputs": [],
   "source": [
    "file_path = '/workspaces/Finetwork-Automation/prueba.csv'"
   ]
  },
  {
   "cell_type": "markdown",
   "metadata": {},
   "source": [
    "# Read the CSV file with correct delimiter"
   ]
  },
  {
   "cell_type": "code",
   "execution_count": 15,
   "metadata": {},
   "outputs": [],
   "source": [
    "df = pd.read_csv(file_path, delimiter=';')"
   ]
  },
  {
   "cell_type": "markdown",
   "metadata": {},
   "source": [
    "# Display the first few rows of the DataFrame"
   ]
  },
  {
   "cell_type": "code",
   "execution_count": 16,
   "metadata": {},
   "outputs": [
    {
     "name": "stdout",
     "output_type": "stream",
     "text": [
      "First few rows of the DataFrame:\n",
      "     Recuento de estado creacion pedido Etiquetas de columna  Unnamed: 2  \\\n",
      "0                     Etiquetas de fila           01/07/2024  02/07/2024   \n",
      "1            Inbound Telec.Orig.Sevilla                  522         418   \n",
      "2     sara.elkhelyfy@originaltelecom.es                   26          24   \n",
      "3  mariangeles.bueso@originaltelecom.es                   32          30   \n",
      "4       laura.eguens@originaltelecom.es                   14           7   \n",
      "\n",
      "   Unnamed: 3  Unnamed: 4  Unnamed: 5  Unnamed: 6  Unnamed: 7  Unnamed: 8  \\\n",
      "0  03/07/2024  04/07/2024  05/07/2024  06/07/2024  07/07/2024  08/07/2024   \n",
      "1         390         458         321         206         153         520   \n",
      "2          28         NaN         NaN          27          24          16   \n",
      "3         NaN           7          16          45          17          26   \n",
      "4          11          17          11          25          18          20   \n",
      "\n",
      "   Unnamed: 9  ... Unnamed: 20 Unnamed: 21 Unnamed: 22 Unnamed: 23  \\\n",
      "0  09/07/2024  ...  20/07/2024  21/07/2024  22/07/2024  23/07/2024   \n",
      "1         424  ...         181         125         447         465   \n",
      "2          22  ...          25          12          20          27   \n",
      "3          18  ...          32          17          27         NaN   \n",
      "4          15  ...          21         NaN          23          14   \n",
      "\n",
      "  Unnamed: 24 Unnamed: 25 Unnamed: 26 Unnamed: 27 Unnamed: 28    Unnamed: 29  \n",
      "0  24/07/2024  25/07/2024  26/07/2024  27/07/2024  28/07/2024  Total general  \n",
      "1         404         429         442         194         121           9722  \n",
      "2          17         NaN         NaN          14          12            408  \n",
      "3         NaN          18         NaN          29          10            404  \n",
      "4          15          10         NaN         NaN         NaN            364  \n",
      "\n",
      "[5 rows x 30 columns]\n"
     ]
    }
   ],
   "source": [
    "print(\"First few rows of the DataFrame:\")\n",
    "print(df.head())"
   ]
  },
  {
   "cell_type": "markdown",
   "metadata": {},
   "source": [
    "# Get general information about the DataFrame"
   ]
  },
  {
   "cell_type": "code",
   "execution_count": 17,
   "metadata": {},
   "outputs": [
    {
     "name": "stdout",
     "output_type": "stream",
     "text": [
      "\n",
      "DataFrame information:\n",
      "<class 'pandas.core.frame.DataFrame'>\n",
      "RangeIndex: 115 entries, 0 to 114\n",
      "Data columns (total 30 columns):\n",
      " #   Column                              Non-Null Count  Dtype \n",
      "---  ------                              --------------  ----- \n",
      " 0   Recuento de estado creacion pedido  115 non-null    object\n",
      " 1   Etiquetas de columna                38 non-null     object\n",
      " 2   Unnamed: 2                          43 non-null     object\n",
      " 3   Unnamed: 3                          44 non-null     object\n",
      " 4   Unnamed: 4                          41 non-null     object\n",
      " 5   Unnamed: 5                          40 non-null     object\n",
      " 6   Unnamed: 6                          14 non-null     object\n",
      " 7   Unnamed: 7                          13 non-null     object\n",
      " 8   Unnamed: 8                          40 non-null     object\n",
      " 9   Unnamed: 9                          43 non-null     object\n",
      " 10  Unnamed: 10                         40 non-null     object\n",
      " 11  Unnamed: 11                         37 non-null     object\n",
      " 12  Unnamed: 12                         38 non-null     object\n",
      " 13  Unnamed: 13                         13 non-null     object\n",
      " 14  Unnamed: 14                         13 non-null     object\n",
      " 15  Unnamed: 15                         42 non-null     object\n",
      " 16  Unnamed: 16                         44 non-null     object\n",
      " 17  Unnamed: 17                         43 non-null     object\n",
      " 18  Unnamed: 18                         43 non-null     object\n",
      " 19  Unnamed: 19                         39 non-null     object\n",
      " 20  Unnamed: 20                         13 non-null     object\n",
      " 21  Unnamed: 21                         13 non-null     object\n",
      " 22  Unnamed: 22                         41 non-null     object\n",
      " 23  Unnamed: 23                         41 non-null     object\n",
      " 24  Unnamed: 24                         40 non-null     object\n",
      " 25  Unnamed: 25                         41 non-null     object\n",
      " 26  Unnamed: 26                         40 non-null     object\n",
      " 27  Unnamed: 27                         15 non-null     object\n",
      " 28  Unnamed: 28                         14 non-null     object\n",
      " 29  Unnamed: 29                         115 non-null    object\n",
      "dtypes: object(30)\n",
      "memory usage: 27.1+ KB\n",
      "None\n"
     ]
    }
   ],
   "source": [
    "print(\"\\nDataFrame information:\")\n",
    "print(df.info())"
   ]
  },
  {
   "cell_type": "markdown",
   "metadata": {},
   "source": [
    "# Describe basic statistics of the DataFrame"
   ]
  },
  {
   "cell_type": "code",
   "execution_count": 18,
   "metadata": {},
   "outputs": [
    {
     "name": "stdout",
     "output_type": "stream",
     "text": [
      "\n",
      "Statistical description of the DataFrame:\n",
      "       Recuento de estado creacion pedido Etiquetas de columna Unnamed: 2  \\\n",
      "count                                 115                   38         43   \n",
      "unique                                115                   24         21   \n",
      "top                     Etiquetas de fila                   14         10   \n",
      "freq                                    1                    4          7   \n",
      "\n",
      "       Unnamed: 3 Unnamed: 4 Unnamed: 5 Unnamed: 6 Unnamed: 7 Unnamed: 8  \\\n",
      "count          44         41         40         14         13         40   \n",
      "unique         19         21         21         12         10         24   \n",
      "top             1         21          8        206        153         16   \n",
      "freq            8          4          5          2          2          3   \n",
      "\n",
      "       Unnamed: 9  ... Unnamed: 20 Unnamed: 21 Unnamed: 22 Unnamed: 23  \\\n",
      "count          43  ...          13          13          41          41   \n",
      "unique         21  ...          11          12          22          23   \n",
      "top             1  ...         181         125          13          12   \n",
      "freq            5  ...           2           2           6           4   \n",
      "\n",
      "       Unnamed: 24 Unnamed: 25 Unnamed: 26 Unnamed: 27 Unnamed: 28 Unnamed: 29  \n",
      "count           40          41          40          15          14         115  \n",
      "unique          22          19          21          13          10          66  \n",
      "top             14          13          18         194         121           2  \n",
      "freq             5           5           4           2           2          16  \n",
      "\n",
      "[4 rows x 30 columns]\n"
     ]
    }
   ],
   "source": [
    "print(\"\\nStatistical description of the DataFrame:\")\n",
    "print(df.describe())"
   ]
  },
  {
   "cell_type": "markdown",
   "metadata": {},
   "source": [
    "# Perform an operation, for example, filter rows\n"
   ]
  },
  {
   "cell_type": "code",
   "execution_count": 19,
   "metadata": {},
   "outputs": [
    {
     "name": "stdout",
     "output_type": "stream",
     "text": [
      "\n",
      "Filtered DataFrame:\n",
      "     Recuento de estado creacion pedido Etiquetas de columna Unnamed: 2  \\\n",
      "3  mariangeles.bueso@originaltelecom.es                   32         30   \n",
      "\n",
      "  Unnamed: 3 Unnamed: 4 Unnamed: 5 Unnamed: 6 Unnamed: 7 Unnamed: 8  \\\n",
      "3        NaN          7         16         45         17         26   \n",
      "\n",
      "  Unnamed: 9  ... Unnamed: 20 Unnamed: 21 Unnamed: 22 Unnamed: 23 Unnamed: 24  \\\n",
      "3         18  ...          32          17          27         NaN         NaN   \n",
      "\n",
      "  Unnamed: 25 Unnamed: 26 Unnamed: 27 Unnamed: 28 Unnamed: 29  \n",
      "3          18         NaN          29          10         404  \n",
      "\n",
      "[1 rows x 30 columns]\n"
     ]
    }
   ],
   "source": [
    "filtered_df = df[df['Recuento de estado creacion pedido'] == \"mariangeles.bueso@originaltelecom.es\"]  # Adjust the filter according to your needs\n",
    "\n",
    "print(\"\\nFiltered DataFrame:\")\n",
    "print(filtered_df.head())"
   ]
  },
  {
   "cell_type": "markdown",
   "metadata": {},
   "source": [
    "# Sample of every operation needed"
   ]
  },
  {
   "cell_type": "markdown",
   "metadata": {},
   "source": [
    "### Loop: Read the files everyday"
   ]
  },
  {
   "cell_type": "code",
   "execution_count": 24,
   "metadata": {},
   "outputs": [
    {
     "name": "stdout",
     "output_type": "stream",
     "text": [
      "Read file: 8.01.csv\n",
      "Read file: 8.02.csv\n",
      "File not found: 8.03.csv. Stopping the loop.\n"
     ]
    }
   ],
   "source": [
    "# Path to the directory containing the CSV files\n",
    "directory_path = '/workspaces/Finetwork-Automation/sample_folder'\n",
    "\n",
    "# Base name for the CSV files\n",
    "base_name = '8.'\n",
    "\n",
    "# Initialize the index\n",
    "i = 1\n",
    "\n",
    "# List to hold the DataFrames\n",
    "dataframes = []\n",
    "\n",
    "while True:\n",
    "    # Construct the file name with leading zeros\n",
    "    file_name = f\"{base_name}{i:02d}.csv\"\n",
    "    file_path = os.path.join(directory_path, file_name)\n",
    "    \n",
    "    # Check if the file exists\n",
    "    if os.path.exists(file_path):\n",
    "        # Read the CSV file\n",
    "        df = pd.read_csv(file_path, delimiter=';')\n",
    "        dataframes.append(df)\n",
    "        print(f\"Read file: {file_name}\")\n",
    "    else:\n",
    "        # Break the loop if the file does not exist\n",
    "        print(f\"File not found: {file_name}. Stopping the loop.\")\n",
    "        break\n",
    "    \n",
    "    # Increment the index\n",
    "    i += 1"
   ]
  },
  {
   "cell_type": "markdown",
   "metadata": {},
   "source": [
    "### Clean all files, removing \"useless\" agents"
   ]
  },
  {
   "cell_type": "code",
   "execution_count": 25,
   "metadata": {},
   "outputs": [
    {
     "name": "stdout",
     "output_type": "stream",
     "text": [
      "Read file: 8.01.csv\n",
      "Read file: 8.02.csv\n",
      "Email miguel.segura@originaltelecom.es found in /workspaces/Finetwork-Automation/sample_folder/8.01.csv, removing it.\n",
      "Updated file: /workspaces/Finetwork-Automation/sample_folder/8.01.csv\n",
      "Email miguel.segura@originaltelecom.es found in /workspaces/Finetwork-Automation/sample_folder/8.02.csv, removing it.\n",
      "Updated file: /workspaces/Finetwork-Automation/sample_folder/8.02.csv\n",
      "All files have been processed and updated.\n"
     ]
    }
   ],
   "source": [
    "# Path to the directory containing the CSV files\n",
    "directory_path = '/workspaces/Finetwork-Automation/sample_folder'\n",
    "\n",
    "# Regular expression pattern to match files like \"CampañaTal8.01.csv\", \"CampañaTal8.02.csv\", etc.\n",
    "pattern = re.compile(r'.*8\\.\\d{2}\\.csv')\n",
    "\n",
    "# List to hold the DataFrames and their corresponding file names\n",
    "dataframes = []\n",
    "\n",
    "# List all files in the directory\n",
    "for file_name in os.listdir(directory_path):\n",
    "    # Check if the file name matches the pattern\n",
    "    if pattern.match(file_name):\n",
    "        file_path = os.path.join(directory_path, file_name)\n",
    "        # Read the CSV file\n",
    "        df = pd.read_csv(file_path, delimiter=';')\n",
    "        dataframes.append((df, file_path))\n",
    "        print(f\"Read file: {file_name}\")\n",
    "\n",
    "# Agent email to remove\n",
    "agent_email_to_remove = \"miguel.segura@originaltelecom.es\"\n",
    "\n",
    "# Process each DataFrame\n",
    "for df_tuple in dataframes:\n",
    "    df, file_path = df_tuple\n",
    "    \n",
    "    # Check if the email exists in the DataFrame before removal\n",
    "    if agent_email_to_remove in df.iloc[:, 0].values:\n",
    "        print(f\"Email {agent_email_to_remove} found in {file_path}, removing it.\")\n",
    "        \n",
    "        # Drop rows where the first column has the specified email\n",
    "        df = df.drop(df[df.iloc[:, 0] == agent_email_to_remove].index)\n",
    "    \n",
    "        # Save the modified DataFrame back to the same file\n",
    "        df.to_csv(file_path, index=False, sep=';')\n",
    "        print(f\"Updated file: {file_path}\")\n",
    "    else:\n",
    "        print(f\"Email {agent_email_to_remove} not found in {file_path}.\")\n",
    "\n",
    "print(\"All files have been processed and updated.\")"
   ]
  },
  {
   "cell_type": "markdown",
   "metadata": {},
   "source": [
    "Count the number of cells containing a specific string in a column."
   ]
  },
  {
   "cell_type": "markdown",
   "metadata": {},
   "source": []
  }
 ],
 "metadata": {
  "kernelspec": {
   "display_name": "Python 3",
   "language": "python",
   "name": "python3"
  },
  "language_info": {
   "codemirror_mode": {
    "name": "ipython",
    "version": 3
   },
   "file_extension": ".py",
   "mimetype": "text/x-python",
   "name": "python",
   "nbconvert_exporter": "python",
   "pygments_lexer": "ipython3",
   "version": "3.10.13"
  }
 },
 "nbformat": 4,
 "nbformat_minor": 2
}

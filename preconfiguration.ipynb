{
 "cells": [
  {
   "cell_type": "markdown",
   "metadata": {},
   "source": [
    "# Environment Setup Guide\n",
    "\n",
    "This notebook provides a step-by-step guide to set up your environment, install necessary libraries, and configure the Jupyter Notebook kernel.\n",
    "\n",
    "## Prerequisites\n",
    "\n",
    "Ensure you have Python 3.x installed. If not, download it from [python.org](https://www.python.org/).\n",
    "\n",
    "## Installing Jupyter Notebook\n",
    "\n"
   ]
  },
  {
   "cell_type": "code",
   "execution_count": null,
   "metadata": {},
   "outputs": [],
   "source": [
    "# Install Jupyter Notebook\n",
    "%pip install jupyter"
   ]
  },
  {
   "cell_type": "markdown",
   "metadata": {},
   "source": [
    "## Installing Required Libraries"
   ]
  },
  {
   "cell_type": "code",
   "execution_count": null,
   "metadata": {},
   "outputs": [],
   "source": [
    "# Install necessary libraries\n",
    "%pip install pandas IPython\n",
    "\n",
    "# Verify installations\n",
    "import pandas as pd\n",
    "from IPython.display import display\n",
    "\n",
    "print(\"Libraries installed successfully!\")\n",
    "\n",
    "## Configuring the Kernel\n",
    "\n",
    "1. Click on \"Kernel\" in the top menu.\n",
    "2. Select \"Change kernel\".\n",
    "3. Choose the Python 3 kernel."
   ]
  },
  {
   "cell_type": "markdown",
   "metadata": {},
   "source": [
    "## Configuring the Kernel\n",
    "\n",
    "1. Click on \"Kernel\" in the top menu.\n",
    "2. Select \"Change kernel\".\n",
    "3. Choose the Python 3 kernel."
   ]
  }
 ],
 "metadata": {
  "language_info": {
   "name": "python"
  }
 },
 "nbformat": 4,
 "nbformat_minor": 2
}

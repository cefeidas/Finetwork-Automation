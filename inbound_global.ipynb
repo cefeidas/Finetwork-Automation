{
 "cells": [
  {
   "cell_type": "markdown",
   "metadata": {},
   "source": [
    "## Library Installation\n",
    "\n",
    "Ensure that the necessary libraries are installed before running the notebook."
   ]
  },
  {
   "cell_type": "code",
   "execution_count": 1,
   "metadata": {},
   "outputs": [
    {
     "name": "stdout",
     "output_type": "stream",
     "text": [
      "Requirement already satisfied: openpyxl in /usr/local/python/3.10.13/lib/python3.10/site-packages (3.1.5)\n",
      "Requirement already satisfied: et-xmlfile in /usr/local/python/3.10.13/lib/python3.10/site-packages (from openpyxl) (1.1.0)\n",
      "\n",
      "\u001b[1m[\u001b[0m\u001b[34;49mnotice\u001b[0m\u001b[1;39;49m]\u001b[0m\u001b[39;49m A new release of pip is available: \u001b[0m\u001b[31;49m24.1.2\u001b[0m\u001b[39;49m -> \u001b[0m\u001b[32;49m24.2\u001b[0m\n",
      "\u001b[1m[\u001b[0m\u001b[34;49mnotice\u001b[0m\u001b[1;39;49m]\u001b[0m\u001b[39;49m To update, run: \u001b[0m\u001b[32;49mpip install --upgrade pip\u001b[0m\n",
      "Note: you may need to restart the kernel to use updated packages.\n",
      "Skeleton setup complete!\n"
     ]
    }
   ],
   "source": [
    "# Import necessary libraries\n",
    "%pip install openpyxl\n",
    "from openpyxl import load_workbook\n",
    "import pandas as pd\n",
    "import os\n",
    "import re\n",
    "import itertools\n",
    "\n",
    "print(\"Skeleton setup complete!\")"
   ]
  },
  {
   "cell_type": "markdown",
   "metadata": {},
   "source": [
    "## Variable Declaration\n",
    "\n",
    "Set the variables for file paths, sheet names, and other configurations. Update these variables for each specific project."
   ]
  },
  {
   "cell_type": "code",
   "execution_count": 2,
   "metadata": {},
   "outputs": [
    {
     "name": "stdout",
     "output_type": "stream",
     "text": [
      "Variables defined correctly!\n"
     ]
    }
   ],
   "source": [
    "# Path to the Excel file (change this for each project)\n",
    "excel_file_path = '/workspaces/Finetwork-Automation/inbound/Metabase.xlsx'\n",
    "csv_file_path = '/workspaces/Finetwork-Automation/inbound/Informe de métricas históricas.csv'\n",
    "\n",
    "# Sheet names for different categories\n",
    "sheet_active = 'ACTIVOS'\n",
    "sheet_canceled = 'CANCELADOS'\n",
    "sheet_pending = 'PTE DE FIRMA'\n",
    "sheet_value = 'TOP VALOR'\n",
    "sheet_packs = 'TOP PACKS'\n",
    "sheet_services = 'TOP SERVICIOS'\n",
    "\n",
    "# Range to read (change this for each project)\n",
    "start_row = 8\n",
    "end_row = 65\n",
    "usecols = 'A:AF'\n",
    "\n",
    "print(\"Variables defined correctly!\")"
   ]
  },
  {
   "cell_type": "markdown",
   "metadata": {},
   "source": [
    "## Verify Columns in 'Active' Sheet.\n",
    "\n",
    "Verify the number of columns in the \"Active\" sheet to ensure the range is within bounds. We will use the range in all three sheets"
   ]
  },
  {
   "cell_type": "code",
   "execution_count": 3,
   "metadata": {},
   "outputs": [
    {
     "ename": "BadZipFile",
     "evalue": "File is not a zip file",
     "output_type": "error",
     "traceback": [
      "\u001b[0;31m---------------------------------------------------------------------------\u001b[0m",
      "\u001b[0;31mBadZipFile\u001b[0m                                Traceback (most recent call last)",
      "Cell \u001b[0;32mIn[3], line 9\u001b[0m\n\u001b[1;32m      6\u001b[0m     \u001b[38;5;28;01mreturn\u001b[39;00m max_column\n\u001b[1;32m      8\u001b[0m \u001b[38;5;66;03m# Check the number of columns in the 'Active' sheet\u001b[39;00m\n\u001b[0;32m----> 9\u001b[0m max_column_active \u001b[38;5;241m=\u001b[39m \u001b[43mverify_columns\u001b[49m\u001b[43m(\u001b[49m\u001b[43mexcel_file_path\u001b[49m\u001b[43m,\u001b[49m\u001b[43m \u001b[49m\u001b[38;5;124;43m'\u001b[39;49m\u001b[38;5;124;43mACTIVOS\u001b[39;49m\u001b[38;5;124;43m'\u001b[39;49m\u001b[43m)\u001b[49m\n\u001b[1;32m     10\u001b[0m \u001b[38;5;28mprint\u001b[39m(\u001b[38;5;124mf\u001b[39m\u001b[38;5;124m\"\u001b[39m\u001b[38;5;124mMax column in \u001b[39m\u001b[38;5;124m'\u001b[39m\u001b[38;5;124mActive\u001b[39m\u001b[38;5;124m'\u001b[39m\u001b[38;5;124m sheet: \u001b[39m\u001b[38;5;132;01m{\u001b[39;00mmax_column_active\u001b[38;5;132;01m}\u001b[39;00m\u001b[38;5;124m\"\u001b[39m)\n\u001b[1;32m     12\u001b[0m \u001b[38;5;66;03m# Check if the number of columns matches the expected range\u001b[39;00m\n",
      "Cell \u001b[0;32mIn[3], line 3\u001b[0m, in \u001b[0;36mverify_columns\u001b[0;34m(file_path, sheet_name)\u001b[0m\n\u001b[1;32m      2\u001b[0m \u001b[38;5;28;01mdef\u001b[39;00m \u001b[38;5;21mverify_columns\u001b[39m(file_path, sheet_name):\n\u001b[0;32m----> 3\u001b[0m     workbook \u001b[38;5;241m=\u001b[39m \u001b[43mload_workbook\u001b[49m\u001b[43m(\u001b[49m\u001b[43mfilename\u001b[49m\u001b[38;5;241;43m=\u001b[39;49m\u001b[43mfile_path\u001b[49m\u001b[43m,\u001b[49m\u001b[43m \u001b[49m\u001b[43mdata_only\u001b[49m\u001b[38;5;241;43m=\u001b[39;49m\u001b[38;5;28;43;01mTrue\u001b[39;49;00m\u001b[43m)\u001b[49m\n\u001b[1;32m      4\u001b[0m     sheet \u001b[38;5;241m=\u001b[39m workbook[sheet_name]\n\u001b[1;32m      5\u001b[0m     max_column \u001b[38;5;241m=\u001b[39m sheet\u001b[38;5;241m.\u001b[39mmax_column\n",
      "File \u001b[0;32m~/.python/current/lib/python3.10/site-packages/openpyxl/reader/excel.py:346\u001b[0m, in \u001b[0;36mload_workbook\u001b[0;34m(filename, read_only, keep_vba, data_only, keep_links, rich_text)\u001b[0m\n\u001b[1;32m    316\u001b[0m \u001b[38;5;28;01mdef\u001b[39;00m \u001b[38;5;21mload_workbook\u001b[39m(filename, read_only\u001b[38;5;241m=\u001b[39m\u001b[38;5;28;01mFalse\u001b[39;00m, keep_vba\u001b[38;5;241m=\u001b[39mKEEP_VBA,\n\u001b[1;32m    317\u001b[0m                   data_only\u001b[38;5;241m=\u001b[39m\u001b[38;5;28;01mFalse\u001b[39;00m, keep_links\u001b[38;5;241m=\u001b[39m\u001b[38;5;28;01mTrue\u001b[39;00m, rich_text\u001b[38;5;241m=\u001b[39m\u001b[38;5;28;01mFalse\u001b[39;00m):\n\u001b[1;32m    318\u001b[0m \u001b[38;5;250m    \u001b[39m\u001b[38;5;124;03m\"\"\"Open the given filename and return the workbook\u001b[39;00m\n\u001b[1;32m    319\u001b[0m \n\u001b[1;32m    320\u001b[0m \u001b[38;5;124;03m    :param filename: the path to open or a file-like object\u001b[39;00m\n\u001b[0;32m   (...)\u001b[0m\n\u001b[1;32m    344\u001b[0m \n\u001b[1;32m    345\u001b[0m \u001b[38;5;124;03m    \"\"\"\u001b[39;00m\n\u001b[0;32m--> 346\u001b[0m     reader \u001b[38;5;241m=\u001b[39m \u001b[43mExcelReader\u001b[49m\u001b[43m(\u001b[49m\u001b[43mfilename\u001b[49m\u001b[43m,\u001b[49m\u001b[43m \u001b[49m\u001b[43mread_only\u001b[49m\u001b[43m,\u001b[49m\u001b[43m \u001b[49m\u001b[43mkeep_vba\u001b[49m\u001b[43m,\u001b[49m\n\u001b[1;32m    347\u001b[0m \u001b[43m                         \u001b[49m\u001b[43mdata_only\u001b[49m\u001b[43m,\u001b[49m\u001b[43m \u001b[49m\u001b[43mkeep_links\u001b[49m\u001b[43m,\u001b[49m\u001b[43m \u001b[49m\u001b[43mrich_text\u001b[49m\u001b[43m)\u001b[49m\n\u001b[1;32m    348\u001b[0m     reader\u001b[38;5;241m.\u001b[39mread()\n\u001b[1;32m    349\u001b[0m     \u001b[38;5;28;01mreturn\u001b[39;00m reader\u001b[38;5;241m.\u001b[39mwb\n",
      "File \u001b[0;32m~/.python/current/lib/python3.10/site-packages/openpyxl/reader/excel.py:123\u001b[0m, in \u001b[0;36mExcelReader.__init__\u001b[0;34m(self, fn, read_only, keep_vba, data_only, keep_links, rich_text)\u001b[0m\n\u001b[1;32m    121\u001b[0m \u001b[38;5;28;01mdef\u001b[39;00m \u001b[38;5;21m__init__\u001b[39m(\u001b[38;5;28mself\u001b[39m, fn, read_only\u001b[38;5;241m=\u001b[39m\u001b[38;5;28;01mFalse\u001b[39;00m, keep_vba\u001b[38;5;241m=\u001b[39mKEEP_VBA,\n\u001b[1;32m    122\u001b[0m              data_only\u001b[38;5;241m=\u001b[39m\u001b[38;5;28;01mFalse\u001b[39;00m, keep_links\u001b[38;5;241m=\u001b[39m\u001b[38;5;28;01mTrue\u001b[39;00m, rich_text\u001b[38;5;241m=\u001b[39m\u001b[38;5;28;01mFalse\u001b[39;00m):\n\u001b[0;32m--> 123\u001b[0m     \u001b[38;5;28mself\u001b[39m\u001b[38;5;241m.\u001b[39marchive \u001b[38;5;241m=\u001b[39m \u001b[43m_validate_archive\u001b[49m\u001b[43m(\u001b[49m\u001b[43mfn\u001b[49m\u001b[43m)\u001b[49m\n\u001b[1;32m    124\u001b[0m     \u001b[38;5;28mself\u001b[39m\u001b[38;5;241m.\u001b[39mvalid_files \u001b[38;5;241m=\u001b[39m \u001b[38;5;28mself\u001b[39m\u001b[38;5;241m.\u001b[39marchive\u001b[38;5;241m.\u001b[39mnamelist()\n\u001b[1;32m    125\u001b[0m     \u001b[38;5;28mself\u001b[39m\u001b[38;5;241m.\u001b[39mread_only \u001b[38;5;241m=\u001b[39m read_only\n",
      "File \u001b[0;32m~/.python/current/lib/python3.10/site-packages/openpyxl/reader/excel.py:95\u001b[0m, in \u001b[0;36m_validate_archive\u001b[0;34m(filename)\u001b[0m\n\u001b[1;32m     88\u001b[0m             msg \u001b[38;5;241m=\u001b[39m (\u001b[38;5;124m'\u001b[39m\u001b[38;5;124mopenpyxl does not support \u001b[39m\u001b[38;5;132;01m%s\u001b[39;00m\u001b[38;5;124m file format, \u001b[39m\u001b[38;5;124m'\u001b[39m\n\u001b[1;32m     89\u001b[0m                    \u001b[38;5;124m'\u001b[39m\u001b[38;5;124mplease check you can open \u001b[39m\u001b[38;5;124m'\u001b[39m\n\u001b[1;32m     90\u001b[0m                    \u001b[38;5;124m'\u001b[39m\u001b[38;5;124mit with Excel first. \u001b[39m\u001b[38;5;124m'\u001b[39m\n\u001b[1;32m     91\u001b[0m                    \u001b[38;5;124m'\u001b[39m\u001b[38;5;124mSupported formats are: \u001b[39m\u001b[38;5;132;01m%s\u001b[39;00m\u001b[38;5;124m'\u001b[39m) \u001b[38;5;241m%\u001b[39m (file_format,\n\u001b[1;32m     92\u001b[0m                                                    \u001b[38;5;124m'\u001b[39m\u001b[38;5;124m,\u001b[39m\u001b[38;5;124m'\u001b[39m\u001b[38;5;241m.\u001b[39mjoin(SUPPORTED_FORMATS))\n\u001b[1;32m     93\u001b[0m         \u001b[38;5;28;01mraise\u001b[39;00m InvalidFileException(msg)\n\u001b[0;32m---> 95\u001b[0m archive \u001b[38;5;241m=\u001b[39m \u001b[43mZipFile\u001b[49m\u001b[43m(\u001b[49m\u001b[43mfilename\u001b[49m\u001b[43m,\u001b[49m\u001b[43m \u001b[49m\u001b[38;5;124;43m'\u001b[39;49m\u001b[38;5;124;43mr\u001b[39;49m\u001b[38;5;124;43m'\u001b[39;49m\u001b[43m)\u001b[49m\n\u001b[1;32m     96\u001b[0m \u001b[38;5;28;01mreturn\u001b[39;00m archive\n",
      "File \u001b[0;32m~/.python/current/lib/python3.10/zipfile.py:1269\u001b[0m, in \u001b[0;36mZipFile.__init__\u001b[0;34m(self, file, mode, compression, allowZip64, compresslevel, strict_timestamps)\u001b[0m\n\u001b[1;32m   1267\u001b[0m \u001b[38;5;28;01mtry\u001b[39;00m:\n\u001b[1;32m   1268\u001b[0m     \u001b[38;5;28;01mif\u001b[39;00m mode \u001b[38;5;241m==\u001b[39m \u001b[38;5;124m'\u001b[39m\u001b[38;5;124mr\u001b[39m\u001b[38;5;124m'\u001b[39m:\n\u001b[0;32m-> 1269\u001b[0m         \u001b[38;5;28;43mself\u001b[39;49m\u001b[38;5;241;43m.\u001b[39;49m\u001b[43m_RealGetContents\u001b[49m\u001b[43m(\u001b[49m\u001b[43m)\u001b[49m\n\u001b[1;32m   1270\u001b[0m     \u001b[38;5;28;01melif\u001b[39;00m mode \u001b[38;5;129;01min\u001b[39;00m (\u001b[38;5;124m'\u001b[39m\u001b[38;5;124mw\u001b[39m\u001b[38;5;124m'\u001b[39m, \u001b[38;5;124m'\u001b[39m\u001b[38;5;124mx\u001b[39m\u001b[38;5;124m'\u001b[39m):\n\u001b[1;32m   1271\u001b[0m         \u001b[38;5;66;03m# set the modified flag so central directory gets written\u001b[39;00m\n\u001b[1;32m   1272\u001b[0m         \u001b[38;5;66;03m# even if no files are added to the archive\u001b[39;00m\n\u001b[1;32m   1273\u001b[0m         \u001b[38;5;28mself\u001b[39m\u001b[38;5;241m.\u001b[39m_didModify \u001b[38;5;241m=\u001b[39m \u001b[38;5;28;01mTrue\u001b[39;00m\n",
      "File \u001b[0;32m~/.python/current/lib/python3.10/zipfile.py:1336\u001b[0m, in \u001b[0;36mZipFile._RealGetContents\u001b[0;34m(self)\u001b[0m\n\u001b[1;32m   1334\u001b[0m     \u001b[38;5;28;01mraise\u001b[39;00m BadZipFile(\u001b[38;5;124m\"\u001b[39m\u001b[38;5;124mFile is not a zip file\u001b[39m\u001b[38;5;124m\"\u001b[39m)\n\u001b[1;32m   1335\u001b[0m \u001b[38;5;28;01mif\u001b[39;00m \u001b[38;5;129;01mnot\u001b[39;00m endrec:\n\u001b[0;32m-> 1336\u001b[0m     \u001b[38;5;28;01mraise\u001b[39;00m BadZipFile(\u001b[38;5;124m\"\u001b[39m\u001b[38;5;124mFile is not a zip file\u001b[39m\u001b[38;5;124m\"\u001b[39m)\n\u001b[1;32m   1337\u001b[0m \u001b[38;5;28;01mif\u001b[39;00m \u001b[38;5;28mself\u001b[39m\u001b[38;5;241m.\u001b[39mdebug \u001b[38;5;241m>\u001b[39m \u001b[38;5;241m1\u001b[39m:\n\u001b[1;32m   1338\u001b[0m     \u001b[38;5;28mprint\u001b[39m(endrec)\n",
      "\u001b[0;31mBadZipFile\u001b[0m: File is not a zip file"
     ]
    }
   ],
   "source": [
    "# Function to verify the number of columns\n",
    "def verify_columns(file_path, sheet_name):\n",
    "    workbook = load_workbook(filename=file_path, data_only=True)\n",
    "    sheet = workbook[sheet_name]\n",
    "    max_column = sheet.max_column\n",
    "    return max_column\n",
    "\n",
    "# Check the number of columns in the 'Active' sheet\n",
    "max_column_active = verify_columns(excel_file_path, 'ACTIVOS')\n",
    "print(f\"Max column in 'Active' sheet: {max_column_active}\")\n",
    "\n",
    "# Check if the number of columns matches the expected range\n",
    "expected_columns = 32  # Columns from A to AF (inclusive)\n",
    "if max_column_active < expected_columns:\n",
    "    usecols = f\"A:{chr(64+max_column_active)}\"\n",
    "    print(f\"Adjusted usecols to: {usecols}\")\n",
    "else:\n",
    "    print(f\"Using default usecols: {usecols}\")"
   ]
  },
  {
   "cell_type": "markdown",
   "metadata": {},
   "source": [
    "## Extract Data from all six Sheets\n",
    "\n",
    "Extract data from all three Sheets within the specified range and convert it directly to a DataFrame."
   ]
  },
  {
   "cell_type": "code",
   "execution_count": 4,
   "metadata": {},
   "outputs": [
    {
     "ename": "BadZipFile",
     "evalue": "File is not a zip file",
     "output_type": "error",
     "traceback": [
      "\u001b[0;31m---------------------------------------------------------------------------\u001b[0m",
      "\u001b[0;31mBadZipFile\u001b[0m                                Traceback (most recent call last)",
      "Cell \u001b[0;32mIn[4], line 8\u001b[0m\n\u001b[1;32m      5\u001b[0m     \u001b[38;5;28;01mreturn\u001b[39;00m df\n\u001b[1;32m      7\u001b[0m \u001b[38;5;66;03m# Extract data from 'Active' sheet\u001b[39;00m\n\u001b[0;32m----> 8\u001b[0m active_df \u001b[38;5;241m=\u001b[39m \u001b[43mload_sheet_as_dataframe\u001b[49m\u001b[43m(\u001b[49m\u001b[43mexcel_file_path\u001b[49m\u001b[43m,\u001b[49m\u001b[43m \u001b[49m\u001b[38;5;124;43m'\u001b[39;49m\u001b[38;5;124;43mACTIVOS\u001b[39;49m\u001b[38;5;124;43m'\u001b[39;49m\u001b[43m,\u001b[49m\u001b[43m \u001b[49m\u001b[43mstart_row\u001b[49m\u001b[43m,\u001b[49m\u001b[43m \u001b[49m\u001b[43mend_row\u001b[49m\u001b[43m,\u001b[49m\u001b[43m \u001b[49m\u001b[43musecols\u001b[49m\u001b[43m)\u001b[49m\n\u001b[1;32m      9\u001b[0m canceled_df \u001b[38;5;241m=\u001b[39m load_sheet_as_dataframe(excel_file_path, \u001b[38;5;124m'\u001b[39m\u001b[38;5;124mCANCELADOS\u001b[39m\u001b[38;5;124m'\u001b[39m, start_row, end_row, usecols)\n\u001b[1;32m     10\u001b[0m pending_signature_df \u001b[38;5;241m=\u001b[39m load_sheet_as_dataframe(excel_file_path, \u001b[38;5;124m'\u001b[39m\u001b[38;5;124mPTE FIRMA\u001b[39m\u001b[38;5;124m'\u001b[39m, start_row, end_row, usecols)\n",
      "Cell \u001b[0;32mIn[4], line 3\u001b[0m, in \u001b[0;36mload_sheet_as_dataframe\u001b[0;34m(file_path, sheet_name, start_row, end_row, usecols)\u001b[0m\n\u001b[1;32m      1\u001b[0m \u001b[38;5;28;01mdef\u001b[39;00m \u001b[38;5;21mload_sheet_as_dataframe\u001b[39m(file_path, sheet_name, start_row, end_row, usecols):\n\u001b[1;32m      2\u001b[0m     \u001b[38;5;66;03m# Load data from the specified sheet and range into a DataFrame\u001b[39;00m\n\u001b[0;32m----> 3\u001b[0m     df \u001b[38;5;241m=\u001b[39m \u001b[43mpd\u001b[49m\u001b[38;5;241;43m.\u001b[39;49m\u001b[43mread_excel\u001b[49m\u001b[43m(\u001b[49m\u001b[43mfile_path\u001b[49m\u001b[43m,\u001b[49m\u001b[43m \u001b[49m\u001b[43msheet_name\u001b[49m\u001b[38;5;241;43m=\u001b[39;49m\u001b[43msheet_name\u001b[49m\u001b[43m,\u001b[49m\u001b[43m \u001b[49m\u001b[43musecols\u001b[49m\u001b[38;5;241;43m=\u001b[39;49m\u001b[43musecols\u001b[49m\u001b[43m,\u001b[49m\u001b[43m \u001b[49m\u001b[43mskiprows\u001b[49m\u001b[38;5;241;43m=\u001b[39;49m\u001b[43mstart_row\u001b[49m\u001b[38;5;241;43m-\u001b[39;49m\u001b[38;5;241;43m1\u001b[39;49m\u001b[43m,\u001b[49m\u001b[43m \u001b[49m\u001b[43mnrows\u001b[49m\u001b[38;5;241;43m=\u001b[39;49m\u001b[43mend_row\u001b[49m\u001b[38;5;241;43m-\u001b[39;49m\u001b[43mstart_row\u001b[49m\u001b[38;5;241;43m+\u001b[39;49m\u001b[38;5;241;43m1\u001b[39;49m\u001b[43m)\u001b[49m\n\u001b[1;32m      4\u001b[0m     \u001b[38;5;28mprint\u001b[39m(\u001b[38;5;124mf\u001b[39m\u001b[38;5;124m\"\u001b[39m\u001b[38;5;124mData from \u001b[39m\u001b[38;5;124m'\u001b[39m\u001b[38;5;132;01m{\u001b[39;00msheet_name\u001b[38;5;132;01m}\u001b[39;00m\u001b[38;5;124m'\u001b[39m\u001b[38;5;124m sheet loaded successfully.\u001b[39m\u001b[38;5;124m\"\u001b[39m)\n\u001b[1;32m      5\u001b[0m     \u001b[38;5;28;01mreturn\u001b[39;00m df\n",
      "File \u001b[0;32m~/.local/lib/python3.10/site-packages/pandas/io/excel/_base.py:495\u001b[0m, in \u001b[0;36mread_excel\u001b[0;34m(io, sheet_name, header, names, index_col, usecols, dtype, engine, converters, true_values, false_values, skiprows, nrows, na_values, keep_default_na, na_filter, verbose, parse_dates, date_parser, date_format, thousands, decimal, comment, skipfooter, storage_options, dtype_backend, engine_kwargs)\u001b[0m\n\u001b[1;32m    493\u001b[0m \u001b[38;5;28;01mif\u001b[39;00m \u001b[38;5;129;01mnot\u001b[39;00m \u001b[38;5;28misinstance\u001b[39m(io, ExcelFile):\n\u001b[1;32m    494\u001b[0m     should_close \u001b[38;5;241m=\u001b[39m \u001b[38;5;28;01mTrue\u001b[39;00m\n\u001b[0;32m--> 495\u001b[0m     io \u001b[38;5;241m=\u001b[39m \u001b[43mExcelFile\u001b[49m\u001b[43m(\u001b[49m\n\u001b[1;32m    496\u001b[0m \u001b[43m        \u001b[49m\u001b[43mio\u001b[49m\u001b[43m,\u001b[49m\n\u001b[1;32m    497\u001b[0m \u001b[43m        \u001b[49m\u001b[43mstorage_options\u001b[49m\u001b[38;5;241;43m=\u001b[39;49m\u001b[43mstorage_options\u001b[49m\u001b[43m,\u001b[49m\n\u001b[1;32m    498\u001b[0m \u001b[43m        \u001b[49m\u001b[43mengine\u001b[49m\u001b[38;5;241;43m=\u001b[39;49m\u001b[43mengine\u001b[49m\u001b[43m,\u001b[49m\n\u001b[1;32m    499\u001b[0m \u001b[43m        \u001b[49m\u001b[43mengine_kwargs\u001b[49m\u001b[38;5;241;43m=\u001b[39;49m\u001b[43mengine_kwargs\u001b[49m\u001b[43m,\u001b[49m\n\u001b[1;32m    500\u001b[0m \u001b[43m    \u001b[49m\u001b[43m)\u001b[49m\n\u001b[1;32m    501\u001b[0m \u001b[38;5;28;01melif\u001b[39;00m engine \u001b[38;5;129;01mand\u001b[39;00m engine \u001b[38;5;241m!=\u001b[39m io\u001b[38;5;241m.\u001b[39mengine:\n\u001b[1;32m    502\u001b[0m     \u001b[38;5;28;01mraise\u001b[39;00m \u001b[38;5;167;01mValueError\u001b[39;00m(\n\u001b[1;32m    503\u001b[0m         \u001b[38;5;124m\"\u001b[39m\u001b[38;5;124mEngine should not be specified when passing \u001b[39m\u001b[38;5;124m\"\u001b[39m\n\u001b[1;32m    504\u001b[0m         \u001b[38;5;124m\"\u001b[39m\u001b[38;5;124man ExcelFile - ExcelFile already has the engine set\u001b[39m\u001b[38;5;124m\"\u001b[39m\n\u001b[1;32m    505\u001b[0m     )\n",
      "File \u001b[0;32m~/.local/lib/python3.10/site-packages/pandas/io/excel/_base.py:1550\u001b[0m, in \u001b[0;36mExcelFile.__init__\u001b[0;34m(self, path_or_buffer, engine, storage_options, engine_kwargs)\u001b[0m\n\u001b[1;32m   1548\u001b[0m     ext \u001b[38;5;241m=\u001b[39m \u001b[38;5;124m\"\u001b[39m\u001b[38;5;124mxls\u001b[39m\u001b[38;5;124m\"\u001b[39m\n\u001b[1;32m   1549\u001b[0m \u001b[38;5;28;01melse\u001b[39;00m:\n\u001b[0;32m-> 1550\u001b[0m     ext \u001b[38;5;241m=\u001b[39m \u001b[43minspect_excel_format\u001b[49m\u001b[43m(\u001b[49m\n\u001b[1;32m   1551\u001b[0m \u001b[43m        \u001b[49m\u001b[43mcontent_or_path\u001b[49m\u001b[38;5;241;43m=\u001b[39;49m\u001b[43mpath_or_buffer\u001b[49m\u001b[43m,\u001b[49m\u001b[43m \u001b[49m\u001b[43mstorage_options\u001b[49m\u001b[38;5;241;43m=\u001b[39;49m\u001b[43mstorage_options\u001b[49m\n\u001b[1;32m   1552\u001b[0m \u001b[43m    \u001b[49m\u001b[43m)\u001b[49m\n\u001b[1;32m   1553\u001b[0m     \u001b[38;5;28;01mif\u001b[39;00m ext \u001b[38;5;129;01mis\u001b[39;00m \u001b[38;5;28;01mNone\u001b[39;00m:\n\u001b[1;32m   1554\u001b[0m         \u001b[38;5;28;01mraise\u001b[39;00m \u001b[38;5;167;01mValueError\u001b[39;00m(\n\u001b[1;32m   1555\u001b[0m             \u001b[38;5;124m\"\u001b[39m\u001b[38;5;124mExcel file format cannot be determined, you must specify \u001b[39m\u001b[38;5;124m\"\u001b[39m\n\u001b[1;32m   1556\u001b[0m             \u001b[38;5;124m\"\u001b[39m\u001b[38;5;124man engine manually.\u001b[39m\u001b[38;5;124m\"\u001b[39m\n\u001b[1;32m   1557\u001b[0m         )\n",
      "File \u001b[0;32m~/.local/lib/python3.10/site-packages/pandas/io/excel/_base.py:1419\u001b[0m, in \u001b[0;36minspect_excel_format\u001b[0;34m(content_or_path, storage_options)\u001b[0m\n\u001b[1;32m   1416\u001b[0m \u001b[38;5;28;01melif\u001b[39;00m \u001b[38;5;129;01mnot\u001b[39;00m peek\u001b[38;5;241m.\u001b[39mstartswith(ZIP_SIGNATURE):\n\u001b[1;32m   1417\u001b[0m     \u001b[38;5;28;01mreturn\u001b[39;00m \u001b[38;5;28;01mNone\u001b[39;00m\n\u001b[0;32m-> 1419\u001b[0m \u001b[38;5;28;01mwith\u001b[39;00m \u001b[43mzipfile\u001b[49m\u001b[38;5;241;43m.\u001b[39;49m\u001b[43mZipFile\u001b[49m\u001b[43m(\u001b[49m\u001b[43mstream\u001b[49m\u001b[43m)\u001b[49m \u001b[38;5;28;01mas\u001b[39;00m zf:\n\u001b[1;32m   1420\u001b[0m     \u001b[38;5;66;03m# Workaround for some third party files that use forward slashes and\u001b[39;00m\n\u001b[1;32m   1421\u001b[0m     \u001b[38;5;66;03m# lower case names.\u001b[39;00m\n\u001b[1;32m   1422\u001b[0m     component_names \u001b[38;5;241m=\u001b[39m [\n\u001b[1;32m   1423\u001b[0m         name\u001b[38;5;241m.\u001b[39mreplace(\u001b[38;5;124m\"\u001b[39m\u001b[38;5;130;01m\\\\\u001b[39;00m\u001b[38;5;124m\"\u001b[39m, \u001b[38;5;124m\"\u001b[39m\u001b[38;5;124m/\u001b[39m\u001b[38;5;124m\"\u001b[39m)\u001b[38;5;241m.\u001b[39mlower() \u001b[38;5;28;01mfor\u001b[39;00m name \u001b[38;5;129;01min\u001b[39;00m zf\u001b[38;5;241m.\u001b[39mnamelist()\n\u001b[1;32m   1424\u001b[0m     ]\n\u001b[1;32m   1426\u001b[0m \u001b[38;5;28;01mif\u001b[39;00m \u001b[38;5;124m\"\u001b[39m\u001b[38;5;124mxl/workbook.xml\u001b[39m\u001b[38;5;124m\"\u001b[39m \u001b[38;5;129;01min\u001b[39;00m component_names:\n",
      "File \u001b[0;32m~/.python/current/lib/python3.10/zipfile.py:1269\u001b[0m, in \u001b[0;36mZipFile.__init__\u001b[0;34m(self, file, mode, compression, allowZip64, compresslevel, strict_timestamps)\u001b[0m\n\u001b[1;32m   1267\u001b[0m \u001b[38;5;28;01mtry\u001b[39;00m:\n\u001b[1;32m   1268\u001b[0m     \u001b[38;5;28;01mif\u001b[39;00m mode \u001b[38;5;241m==\u001b[39m \u001b[38;5;124m'\u001b[39m\u001b[38;5;124mr\u001b[39m\u001b[38;5;124m'\u001b[39m:\n\u001b[0;32m-> 1269\u001b[0m         \u001b[38;5;28;43mself\u001b[39;49m\u001b[38;5;241;43m.\u001b[39;49m\u001b[43m_RealGetContents\u001b[49m\u001b[43m(\u001b[49m\u001b[43m)\u001b[49m\n\u001b[1;32m   1270\u001b[0m     \u001b[38;5;28;01melif\u001b[39;00m mode \u001b[38;5;129;01min\u001b[39;00m (\u001b[38;5;124m'\u001b[39m\u001b[38;5;124mw\u001b[39m\u001b[38;5;124m'\u001b[39m, \u001b[38;5;124m'\u001b[39m\u001b[38;5;124mx\u001b[39m\u001b[38;5;124m'\u001b[39m):\n\u001b[1;32m   1271\u001b[0m         \u001b[38;5;66;03m# set the modified flag so central directory gets written\u001b[39;00m\n\u001b[1;32m   1272\u001b[0m         \u001b[38;5;66;03m# even if no files are added to the archive\u001b[39;00m\n\u001b[1;32m   1273\u001b[0m         \u001b[38;5;28mself\u001b[39m\u001b[38;5;241m.\u001b[39m_didModify \u001b[38;5;241m=\u001b[39m \u001b[38;5;28;01mTrue\u001b[39;00m\n",
      "File \u001b[0;32m~/.python/current/lib/python3.10/zipfile.py:1336\u001b[0m, in \u001b[0;36mZipFile._RealGetContents\u001b[0;34m(self)\u001b[0m\n\u001b[1;32m   1334\u001b[0m     \u001b[38;5;28;01mraise\u001b[39;00m BadZipFile(\u001b[38;5;124m\"\u001b[39m\u001b[38;5;124mFile is not a zip file\u001b[39m\u001b[38;5;124m\"\u001b[39m)\n\u001b[1;32m   1335\u001b[0m \u001b[38;5;28;01mif\u001b[39;00m \u001b[38;5;129;01mnot\u001b[39;00m endrec:\n\u001b[0;32m-> 1336\u001b[0m     \u001b[38;5;28;01mraise\u001b[39;00m BadZipFile(\u001b[38;5;124m\"\u001b[39m\u001b[38;5;124mFile is not a zip file\u001b[39m\u001b[38;5;124m\"\u001b[39m)\n\u001b[1;32m   1337\u001b[0m \u001b[38;5;28;01mif\u001b[39;00m \u001b[38;5;28mself\u001b[39m\u001b[38;5;241m.\u001b[39mdebug \u001b[38;5;241m>\u001b[39m \u001b[38;5;241m1\u001b[39m:\n\u001b[1;32m   1338\u001b[0m     \u001b[38;5;28mprint\u001b[39m(endrec)\n",
      "\u001b[0;31mBadZipFile\u001b[0m: File is not a zip file"
     ]
    }
   ],
   "source": [
    "def load_sheet_as_dataframe(file_path, sheet_name, start_row, end_row, usecols):\n",
    "    # Load data from the specified sheet and range into a DataFrame\n",
    "    df = pd.read_excel(file_path, sheet_name=sheet_name, usecols=usecols, skiprows=start_row-1, nrows=end_row-start_row+1)\n",
    "    print(f\"Data from '{sheet_name}' sheet loaded successfully.\")\n",
    "    return df\n",
    "\n",
    "# Extract data from 'Active' sheet\n",
    "active_df = load_sheet_as_dataframe(excel_file_path, 'ACTIVOS', start_row, end_row, usecols)\n",
    "canceled_df = load_sheet_as_dataframe(excel_file_path, 'CANCELADOS', start_row, end_row, usecols)\n",
    "pending_signature_df = load_sheet_as_dataframe(excel_file_path, 'PTE FIRMA', start_row, end_row, usecols)\n",
    "value_df = load_sheet_as_dataframe(excel_file_path, 'TOP VALOR', start_row, end_row, usecols)\n",
    "packs_df = load_sheet_as_dataframe(excel_file_path, 'TOP PACKS', start_row, end_row, usecols)\n",
    "services_df = load_sheet_as_dataframe(excel_file_path, 'TOP SERVICIOS', start_row, end_row, usecols)\n",
    "\n",
    "# Display the DataFrames\n",
    "print(\"Active DataFrame:\")\n",
    "display(active_df.head())\n",
    "\n",
    "print(\"Canceled DataFrame:\")\n",
    "display(canceled_df.head())\n",
    "\n",
    "print(\"Pending Signature DataFrame:\")\n",
    "display(pending_signature_df.head())\n",
    "\n",
    "print(\"value DataFrame:\")\n",
    "display(value_df.head())\n",
    "\n",
    "print(\"Packs DataFrame:\")\n",
    "display(packs_df.head())\n",
    "\n",
    "print(\"Services DataFrame:\")\n",
    "display(services_df.head())\n"
   ]
  },
  {
   "cell_type": "markdown",
   "metadata": {},
   "source": [
    "## Replace NaN with 0\n",
    "\n",
    "Replace all NaN values in the DataFrames with 0 to facilitate further transformations."
   ]
  },
  {
   "cell_type": "code",
   "execution_count": null,
   "metadata": {},
   "outputs": [],
   "source": [
    "def replace_nan_with_zero(df):\n",
    "    \"\"\"\n",
    "    Replace all NaN values in the DataFrame with 0.\n",
    "    \n",
    "    Parameters:\n",
    "    df (pd.DataFrame): The DataFrame to process.\n",
    "    \n",
    "    Returns:\n",
    "    pd.DataFrame: The processed DataFrame with NaN replaced by 0.\n",
    "    \"\"\"\n",
    "    df = df.fillna(0)\n",
    "    print(\"Replaced NaN with 0.\")\n",
    "    return df\n",
    "\n",
    "active_df = replace_nan_with_zero(active_df)\n",
    "canceled_df = replace_nan_with_zero(canceled_df)\n",
    "pending_signature_df = replace_nan_with_zero(pending_signature_df)\n",
    "value_df = replace_nan_with_zero(value_df)\n",
    "packs_df = replace_nan_with_zero(packs_df)\n",
    "services_df = replace_nan_with_zero(services_df)\n",
    "\n",
    "\n",
    "\n",
    "# Display the transformed DataFrames\n",
    "print(\"Active DataFrame after replacing NaN:\")\n",
    "display(active_df.head())\n",
    "\n",
    "print(\"Canceled DataFrame after replacing NaN:\")\n",
    "display(canceled_df.head())\n",
    "\n",
    "print(\"Pending Signature DataFrame after replacing NaN:\")\n",
    "display(pending_signature_df.head())\n",
    "\n",
    "print(\"Value DataFrame after replacing NaN:\")\n",
    "display(value_df.head())\n",
    "\n",
    "print(\"Packs DataFrame after replacing NaN:\")\n",
    "display(packs_df.head())\n",
    "\n",
    "print(\"Services DataFrame after replacing NaN:\")\n",
    "display(services_df.head())"
   ]
  },
  {
   "cell_type": "markdown",
   "metadata": {},
   "source": [
    "## Load Agents List\n",
    "\n",
    "Load the list of all agents from the \"Agents\" sheet."
   ]
  },
  {
   "cell_type": "code",
   "execution_count": null,
   "metadata": {},
   "outputs": [],
   "source": [
    "# Load the list of agents\n",
    "agents_df = pd.read_excel(excel_file_path, sheet_name='AGENTES', usecols='A')\n",
    "agents_list = agents_df.iloc[:, 0].tolist()\n",
    "print(\"Agents list loaded successfully!\")\n",
    "print(agents_list)"
   ]
  },
  {
   "cell_type": "markdown",
   "metadata": {},
   "source": [
    "## Verify and Complete Data\n",
    "\n",
    "Verify that all agents are present in each DataFrame. If an agent is missing, add a row with zeros for that agent."
   ]
  },
  {
   "cell_type": "code",
   "execution_count": null,
   "metadata": {},
   "outputs": [],
   "source": [
    "def ensure_all_agents(df, agents_list):\n",
    "    \"\"\"\n",
    "    Ensure all agents are present in the DataFrame. Add missing agents with zero values and remove agents not in the list.\n",
    "    \n",
    "    Parameters:\n",
    "    df (pd.DataFrame): The DataFrame to check and update.\n",
    "    agents_list (list): The list of all agents.\n",
    "    \n",
    "    Returns:\n",
    "    pd.DataFrame: The updated DataFrame with all agents.\n",
    "    \"\"\"\n",
    "    # Get the list of agents in the DataFrame\n",
    "    existing_agents = df.iloc[:, 0].tolist()\n",
    "    \n",
    "    # Find missing agents\n",
    "    missing_agents = [agent for agent in agents_list if agent not in existing_agents]\n",
    "    \n",
    "    # Add rows for missing agents with zero values\n",
    "    for agent in missing_agents:\n",
    "        zero_row = pd.DataFrame([[agent] + [0] * (df.shape[1] - 1)], columns=df.columns)\n",
    "        df = pd.concat([df, zero_row], ignore_index=True)\n",
    "    \n",
    "    # Remove agents not in the agents list\n",
    "    df = df[df.iloc[:, 0].isin(agents_list)]\n",
    "    \n",
    "    print(f\"Added {len(missing_agents)} missing agents and removed {len(existing_agents) - len(df)} agents not in the list.\")\n",
    "    return df\n",
    "\n",
    "# Apply the function to each DataFrame\n",
    "active_df = ensure_all_agents(active_df, agents_list)\n",
    "canceled_df = ensure_all_agents(canceled_df, agents_list)\n",
    "pending_signature_df = ensure_all_agents(pending_signature_df, agents_list)\n",
    "value_df = ensure_all_agents(value_df, agents_list)\n",
    "packs_df = ensure_all_agents(packs_df, agents_list)\n",
    "services_df = ensure_all_agents(services_df, agents_list)\n",
    "\n",
    "# Display the updated DataFrames\n",
    "print(\"Active DataFrame after ensuring all agents:\")\n",
    "display(active_df.head())\n",
    "\n",
    "print(\"Canceled DataFrame after ensuring all agents:\")\n",
    "display(canceled_df.head())\n",
    "\n",
    "print(\"Pending Signature DataFrame after ensuring all agents:\")\n",
    "display(pending_signature_df.head())\n",
    "\n",
    "print(\"Value DataFrame after ensuring all agents:\")\n",
    "display(value_df.head())\n",
    "\n",
    "print(\"Packs DataFrame after ensuring all agents:\")\n",
    "display(packs_df.head())\n",
    "\n",
    "print(\"Services DataFrame after ensuring all agents:\")\n",
    "display(services_df.head())"
   ]
  },
  {
   "cell_type": "markdown",
   "metadata": {},
   "source": [
    "## Assign Values to Emails\n",
    "\n",
    "Assign numerical values to each email and add them as a new column in the DataFrames."
   ]
  },
  {
   "cell_type": "code",
   "execution_count": null,
   "metadata": {},
   "outputs": [],
   "source": [
    "# Dictionary mapping emails to their respective values\n",
    "email_values = {\n",
    "    'albaaraujo@originaltelecom.es': 1,\n",
    "    'albertocanto@originaltelecom.es': 2,\n",
    "    'albertosanchez@originaltelecom.es': 3,\n",
    "    'anasanchez@originaltelecom.es': 4,\n",
    "    'antonio.reina@originaltelecom.es': 5,\n",
    "    'azahara.garcia@originaltelecom.es': 6,\n",
    "    'beatriz.gomez@originaltelecom.es': 7,\n",
    "    'maricarmen.cornejo@originaltelecom.es': 8,\n",
    "    'carolinafuentes@originaltelecom.es': 9,\n",
    "    'cesar.arnaldo@originaltelecom.es': 10,\n",
    "    'david.molero@originaltelecom.es': 11,\n",
    "    'elenaborrero@originaltelecom.es': 12,\n",
    "    'estefania.panea@originaltelecom.es': 13,\n",
    "    'francisco.perdomo@originaltelecom.es': 14,\n",
    "    'gonzalofalcon@originaltelecom.es': 15,\n",
    "    'guillermo.hurtado@originaltelecom.es': 16,\n",
    "    'irati.izaguirre@originaltelecom.es': 17,\n",
    "    'ivan.barroso@originaltelecom.es': 18,\n",
    "    'laura.eguens@originaltelecom.es': 19,\n",
    "    'lailasetati@originaltelecom.es': 20,\n",
    "    'leonor.lopez@originaltelecom.es': 21,\n",
    "    'dolores.cortes@originaltelecom.es': 22,\n",
    "    'manuelvaldes@originaltelecom.es': 23,\n",
    "    'manuelventura@originaltelecom.es': 24,\n",
    "    'mar.aguila@originaltelecom.es': 25,\n",
    "    'mariangeles.bueso@originaltelecom.es': 26,\n",
    "    'mariaarroyo@originaltelecom.es': 27,\n",
    "    'maria.torres@originaltelecom.es': 28,\n",
    "    'marta.dorado@originaltelecom.es': 29,\n",
    "    'mauricio.pozo@originaltelecom.es': 30,\n",
    "    'miguel.segura@originaltelecom.es': 31,\n",
    "    'miriam.rodriguez@originaltelecom.es': 32,\n",
    "    'mar.marchena@originaltelecom.es': 33,\n",
    "    'natividad.sanchez@originaltelecom.es': 34,\n",
    "    'nereacerezo@originaltelecom.es': 35,\n",
    "    'oscar.rivilla@originaltelecom.es': 36,\n",
    "    'patricia.rios@originaltelecom.es': 37,\n",
    "    'paulavilla@originaltelecom.es': 38,\n",
    "    'pilar.deval@originaltelecom.es': 39,\n",
    "    'sara.elkhelyfy@originaltelecom.es': 40,\n",
    "    'sergio.vazquez@originaltelecom.es': 41,\n",
    "    'yicel.patricia@originaltelecom.es': 42,\n",
    "    'yzabelly.gomes@originaltelecom.es': 43\n",
    "}\n",
    "\n",
    "# Add a new column to each DataFrame with the email values\n",
    "def add_email_values(df, email_values):\n",
    "    df['email_value'] = df.iloc[:, 0].map(email_values)\n",
    "    return df\n",
    "\n",
    "# Apply the function to each DataFrame\n",
    "active_df = add_email_values(active_df, email_values)\n",
    "canceled_df = add_email_values(canceled_df, email_values)\n",
    "pending_signature_df = add_email_values(pending_signature_df, email_values)\n",
    "value_df = add_email_values(value_df, email_values)\n",
    "packs_df = add_email_values(packs_df, email_values)\n",
    "services_df = add_email_values(services_df, email_values)\n",
    "\n",
    "# Display the updated DataFrames with the new 'email_value' column\n",
    "print(\"Active DataFrame with email values:\")\n",
    "display(active_df.head())\n",
    "\n",
    "print(\"Canceled DataFrame with email values:\")\n",
    "display(canceled_df.head())\n",
    "\n",
    "print(\"Pending Signature DataFrame with email values:\")\n",
    "display(pending_signature_df.head())\n",
    "\n",
    "print(\"Value DataFrame with email values:\")\n",
    "display(value_df.head())\n",
    "\n",
    "print(\"Packs DataFrame with email values:\")\n",
    "display(packs_df.head())\n",
    "\n",
    "print(\"Services DataFrame with email values:\")\n",
    "display(services_df.head())"
   ]
  },
  {
   "cell_type": "markdown",
   "metadata": {},
   "source": [
    "## Sort DataFrames by Email Values\n",
    "\n",
    "Sort the DataFrames based on the numerical values assigned to the emails."
   ]
  },
  {
   "cell_type": "code",
   "execution_count": null,
   "metadata": {},
   "outputs": [],
   "source": [
    "# Sort each DataFrame by the 'email_value' column\n",
    "def sort_by_email_value(df):\n",
    "    df = df.sort_values(by='email_value')\n",
    "    return df\n",
    "\n",
    "# Apply the sorting function to each DataFrame\n",
    "active_df = sort_by_email_value(active_df)\n",
    "canceled_df = sort_by_email_value(canceled_df)\n",
    "pending_signature_df = sort_by_email_value(pending_signature_df)\n",
    "value_df = sort_by_email_value(value_df)\n",
    "packs_df = sort_by_email_value(packs_df)\n",
    "services_df = sort_by_email_value(services_df)\n",
    "\n",
    "# Display the sorted DataFrames\n",
    "print(\"Sorted Active DataFrame:\")\n",
    "display(active_df.head()) \n",
    "\n",
    "print(\"Sorted Canceled DataFrame:\")\n",
    "display(canceled_df.head())\n",
    "\n",
    "print(\"Sorted Pending Signature DataFrame:\")\n",
    "display(pending_signature_df.head())\n",
    "\n",
    "print(\"Sorted Canceled DataFrame:\")\n",
    "display(value_df.head())\n",
    "\n",
    "print(\"Sorted Pending Signature DataFrame:\")\n",
    "display(packs_df.head())\n",
    "\n",
    "print(\"Sorted Pending Signature DataFrame:\")\n",
    "display(services_df.head())"
   ]
  },
  {
   "cell_type": "markdown",
   "metadata": {},
   "source": [
    "## Remove 'email_value' Column\n",
    "\n",
    "After sorting the DataFrames based on the email values, the 'email_value' column should be removed to prevent interference with further calculations."
   ]
  },
  {
   "cell_type": "code",
   "execution_count": null,
   "metadata": {},
   "outputs": [],
   "source": [
    "# Function to remove the 'email_value' column\n",
    "def remove_email_value_column(df):\n",
    "    if 'email_value' in df.columns:\n",
    "        df = df.drop(columns=['email_value'])\n",
    "    return df\n",
    "\n",
    "# Apply the function to each DataFrame\n",
    "active_df = remove_email_value_column(active_df)\n",
    "canceled_df = remove_email_value_column(canceled_df)\n",
    "pending_signature_df = remove_email_value_column(pending_signature_df)\n",
    "value_df = remove_email_value_column(value_df)\n",
    "packs_df = remove_email_value_column(packs_df)\n",
    "services_df = remove_email_value_column(services_df)\n",
    "\n",
    "\n",
    "# Display the updated DataFrames without the 'email_value' column\n",
    "print(\"Active DataFrame after removing 'email_value' column:\")\n",
    "display(active_df.head())\n",
    "\n",
    "print(\"Canceled DataFrame after removing 'email_value' column:\")\n",
    "display(canceled_df.head())\n",
    "\n",
    "print(\"Pending Signature DataFrame after removing 'email_value' column:\")\n",
    "display(pending_signature_df.head())\n",
    "\n",
    "print(\"Value DataFrame after removing 'email_value' column:\")\n",
    "display(value_df.head())\n",
    "\n",
    "print(\"Packs DataFrame after removing 'email_value' column:\")\n",
    "display(packs_df.head())\n",
    "\n",
    "print(\"Services DataFrame after removing 'email_value' column:\")\n",
    "display(services_df.head())\n",
    "\n",
    "column_values = active_df.iloc[:, 0].tolist()\n",
    "print(\"Values from the second column of active_df:\")\n",
    "print(column_values)"
   ]
  },
  {
   "cell_type": "markdown",
   "metadata": {},
   "source": [
    "## Process Data from all DataFrames\n",
    "\n",
    "Sum all numeric values in each row, divide the result by 2, and store the final values."
   ]
  },
  {
   "cell_type": "code",
   "execution_count": null,
   "metadata": {},
   "outputs": [],
   "source": [
    "# Calculate sum of numeric values in each row, divided by 2\n",
    "active_sums = active_df.iloc[:, 1:].sum(axis=1) / 2\n",
    "canceled_sums = canceled_df.iloc[:, 1:].sum(axis=1) / 2\n",
    "pending_signature_sums = pending_signature_df.iloc[:, 1:].sum(axis=1) / 2\n",
    "value_sums = value_df.iloc[:, 1:].sum(axis=1) / 2\n",
    "packs_sums = packs_df.iloc[:, 1:].sum(axis=1) / 2\n",
    "services_sums = services_df.iloc[:, 1:].sum(axis=1) / 2\n",
    "\n",
    "print(\"Calculated sums for 'Active' DataFrame:\")\n",
    "print(active_sums.head())# Calculate sum of numeric values in each row, divided by 2 for 'Pending Signature' DataFrame\n",
    "print(\"Calculated sums for 'Canceled' DataFrame:\")\n",
    "print(canceled_sums.head())\n",
    "print(\"Calculated sums for 'Pending Signature' DataFrame:\")\n",
    "print(pending_signature_sums.head())\n",
    "print(\"Calculated sums for 'Value' DataFrame:\")\n",
    "print(value_sums.head())\n",
    "print(\"Calculated sums for 'Packs' DataFrame:\")\n",
    "print(packs_sums.head())\n",
    "print(\"Calculated sums for 'Services' DataFrame:\")\n",
    "print(services_df.head())"
   ]
  },
  {
   "cell_type": "markdown",
   "metadata": {},
   "source": [
    "## Update finalFile Excel Sheet\n",
    "\n",
    "Update the \"finalFile\" Excel sheet with the calculated values from all five DataFrame\n",
    "\n",
    "### Update finalFile Excel sheet with Active Data\n",
    "\n",
    "Update the \"finalFile\" Excel sheet with the calculated values from the Active DataFrame in column J."
   ]
  },
  {
   "cell_type": "code",
   "execution_count": null,
   "metadata": {},
   "outputs": [],
   "source": [
    "from openpyxl import load_workbook\n",
    "\n",
    "# Path to the final file\n",
    "final_file_path ='/workspaces/Finetwork-Automation/inbound/OBJETIVO_CALL_INB_AGOSTO_24.xlsx'\n",
    "sheet_name = 'GLOBAL AGOSTO'  # Change this to the correct sheet name\n",
    "\n",
    "def update_final_file(file_path, sheet_name, values):\n",
    "    # Load the workbook and select the sheet\n",
    "    workbook = load_workbook(filename=file_path)\n",
    "    sheet = workbook[sheet_name]\n",
    "    \n",
    "    # Start updating from row 3 in column F (6th column)\n",
    "    start_row = 3\n",
    "    column = 10  # Column J\n",
    "    \n",
    "    for i, value in enumerate(values, start=start_row):\n",
    "        sheet.cell(row=i, column=column, value=value)\n",
    "    \n",
    "    # Save the workbook\n",
    "    workbook.save(file_path)\n",
    "    print(f\"Updated {len(values)} rows in '{sheet_name}' sheet of '{file_path}'.\")\n",
    "\n",
    "# Update the final file with the calculated sums\n",
    "update_final_file(final_file_path, sheet_name, active_sums)"
   ]
  },
  {
   "cell_type": "markdown",
   "metadata": {},
   "source": [
    "### Update finalFile Excel Sheet with Canceled Data\n",
    "\n",
    "Update the \"finalFile\" Excel sheet with the calculated values from the Canceled DataFrame in column K."
   ]
  },
  {
   "cell_type": "code",
   "execution_count": null,
   "metadata": {},
   "outputs": [],
   "source": [
    "def update_final_file_canceled(file_path, sheet_name, values):\n",
    "    # Load the workbook and select the sheet\n",
    "    workbook = load_workbook(filename=file_path)\n",
    "    sheet = workbook[sheet_name]\n",
    "    \n",
    "    # Start updating from row 3 in column N (14th column)\n",
    "    start_row = 3\n",
    "    column = 11  # Column K\n",
    "    \n",
    "    for i, value in enumerate(values, start=start_row):\n",
    "        sheet.cell(row=i, column=column, value=value)\n",
    "    \n",
    "    # Save the workbook\n",
    "    workbook.save(file_path)\n",
    "    print(f\"Updated {len(values)} rows in '{sheet_name}' sheet of '{file_path}' with Canceled data.\")\n",
    "\n",
    "# Update the final file with the calculated sums for Canceled\n",
    "update_final_file_canceled(final_file_path, sheet_name, canceled_sums)"
   ]
  },
  {
   "cell_type": "markdown",
   "metadata": {},
   "source": [
    "### Update finalFile Excel Sheet with Pending Signature Data\n",
    "\n",
    "Update the \"finalFile\" Excel sheet with the calculated values from the Pending Signature DataFrame in column L."
   ]
  },
  {
   "cell_type": "code",
   "execution_count": null,
   "metadata": {},
   "outputs": [],
   "source": [
    "def update_final_file_pending_signature(file_path, sheet_name, values):\n",
    "    # Load the workbook and select the sheet\n",
    "    workbook = load_workbook(filename=file_path)\n",
    "    sheet = workbook[sheet_name]\n",
    "    \n",
    "    # Start updating from row 3 in column Q (17th column)\n",
    "    start_row = 3\n",
    "    column = 12  # Column L\n",
    "    \n",
    "    for i, value in enumerate(values, start=start_row):\n",
    "        sheet.cell(row=i, column=column, value=value)\n",
    "    \n",
    "    # Save the workbook\n",
    "    workbook.save(file_path)\n",
    "    print(f\"Updated {len(values)} rows in '{sheet_name}' sheet of '{file_path}' with Pending Signature data.\")\n",
    "\n",
    "# Update the final file with the calculated sums for Pending Signature\n",
    "update_final_file_pending_signature(final_file_path, sheet_name, pending_signature_sums)"
   ]
  },
  {
   "cell_type": "markdown",
   "metadata": {},
   "source": [
    "### Update finalFile Excel Sheet with Values Data\n",
    "\n",
    "Update the \"finalFile\" Excel sheet with the calculated values from the Values DataFrame in column M."
   ]
  },
  {
   "cell_type": "code",
   "execution_count": null,
   "metadata": {},
   "outputs": [],
   "source": [
    "def update_final_file_pending_signature(file_path, sheet_name, values):\n",
    "    # Load the workbook and select the sheet\n",
    "    workbook = load_workbook(filename=file_path)\n",
    "    sheet = workbook[sheet_name]\n",
    "    \n",
    "    # Start updating from row 3 in column Q (17th column)\n",
    "    start_row = 3\n",
    "    column = 13  # Column M\n",
    "    \n",
    "    for i, value in enumerate(values, start=start_row):\n",
    "        sheet.cell(row=i, column=column, value=value)\n",
    "    \n",
    "    # Save the workbook\n",
    "    workbook.save(file_path)\n",
    "    print(f\"Updated {len(values)} rows in '{sheet_name}' sheet of '{file_path}' with Values data.\")\n",
    "\n",
    "# Update the final file with the calculated sums for Pending Signature\n",
    "update_final_file_pending_signature(final_file_path, sheet_name, value_sums)"
   ]
  },
  {
   "cell_type": "markdown",
   "metadata": {},
   "source": [
    "### Update finalFile Excel Sheet with Packs Data\n",
    "\n",
    "Update the \"finalFile\" Excel sheet with the calculated values from the Packs DataFrame in column N."
   ]
  },
  {
   "cell_type": "code",
   "execution_count": null,
   "metadata": {},
   "outputs": [],
   "source": [
    "def update_final_file_pending_signature(file_path, sheet_name, values):\n",
    "    # Load the workbook and select the sheet\n",
    "    workbook = load_workbook(filename=file_path)\n",
    "    sheet = workbook[sheet_name]\n",
    "    \n",
    "    # Start updating from row 3 in column Q (17th column)\n",
    "    start_row = 3\n",
    "    column = 14  # Column N\n",
    "    \n",
    "    for i, value in enumerate(values, start=start_row):\n",
    "        sheet.cell(row=i, column=column, value=value)\n",
    "    \n",
    "    # Save the workbook\n",
    "    workbook.save(file_path)\n",
    "    print(f\"Updated {len(values)} rows in '{sheet_name}' sheet of '{file_path}' with Packs data.\")\n",
    "\n",
    "# Update the final file with the calculated sums for Pending Signature\n",
    "update_final_file_pending_signature(final_file_path, sheet_name, packs_sums)"
   ]
  },
  {
   "cell_type": "markdown",
   "metadata": {},
   "source": [
    "### Update finalFile Excel Sheet with Services Data\n",
    "\n",
    "Update the \"finalFile\" Excel sheet with the calculated values from the Services DataFrame in column O."
   ]
  },
  {
   "cell_type": "code",
   "execution_count": null,
   "metadata": {},
   "outputs": [],
   "source": [
    "def update_final_file_pending_signature(file_path, sheet_name, values):\n",
    "    # Load the workbook and select the sheet\n",
    "    workbook = load_workbook(filename=file_path)\n",
    "    sheet = workbook[sheet_name]\n",
    "    \n",
    "    # Start updating from row 3 in column Q (17th column)\n",
    "    start_row = 3\n",
    "    column = 15  # Column O\n",
    "    \n",
    "    for i, value in enumerate(values, start=start_row):\n",
    "        sheet.cell(row=i, column=column, value=value)\n",
    "    \n",
    "    # Save the workbook\n",
    "    workbook.save(file_path)\n",
    "    print(f\"Updated {len(values)} rows in '{sheet_name}' sheet of '{file_path}' with Services data.\")\n",
    "\n",
    "# Update the final file with the calculated sums for Pending Signature\n",
    "update_final_file_pending_signature(final_file_path, sheet_name, services_sums)"
   ]
  }
 ],
 "metadata": {
  "kernelspec": {
   "display_name": "Python 3",
   "language": "python",
   "name": "python3"
  },
  "language_info": {
   "codemirror_mode": {
    "name": "ipython",
    "version": 3
   },
   "file_extension": ".py",
   "mimetype": "text/x-python",
   "name": "python",
   "nbconvert_exporter": "python",
   "pygments_lexer": "ipython3",
   "version": "3.10.13"
  }
 },
 "nbformat": 4,
 "nbformat_minor": 2
}

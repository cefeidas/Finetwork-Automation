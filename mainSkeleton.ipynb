{
 "cells": [
  {
   "cell_type": "markdown",
   "metadata": {},
   "source": [
    "# Skeleton Notebook\n",
    "\n",
    "This notebook contains general transformations that can be reused across different projects.\n",
    "\n",
    "## Import Necessary Libraries\n",
    "\n",
    "The following libraries are essential for data processing and should be included in every module."
   ]
  },
  {
   "cell_type": "code",
   "execution_count": 2,
   "metadata": {},
   "outputs": [
    {
     "name": "stdout",
     "output_type": "stream",
     "text": [
      "Skeleton setup complete!\n"
     ]
    }
   ],
   "source": [
    "# Import necessary libraries\n",
    "import pandas as pd\n",
    "import os\n",
    "import re\n",
    "\n",
    "print(\"Skeleton setup complete!\")"
   ]
  },
  {
   "cell_type": "markdown",
   "metadata": {},
   "source": [
    "# Define Variables\n",
    "\n",
    "Set the variables for file paths, base names, and other configurations. Update these variables for each specific project."
   ]
  },
  {
   "cell_type": "code",
   "execution_count": 3,
   "metadata": {},
   "outputs": [
    {
     "name": "stdout",
     "output_type": "stream",
     "text": [
      "Variables defined correctly!\n"
     ]
    }
   ],
   "source": [
    "# Base name for the CSV files (change this for each project)\n",
    "base_name = '8.'\n",
    "\n",
    "# Path to the directory containing the CSV files (change this for each project)\n",
    "directory_path = '/workspaces/Finetwork-Automation/sample_folder'\n",
    "\n",
    "# Path for a single file (example, change as needed)\n",
    "single_file_path = os.path.join(directory_path, f\"{base_name}01.csv\")\n",
    "\n",
    "# Values of specific cells\n",
    "value=\"mariangeles.bueso@originaltelecom.es\" \n",
    "\n",
    "print(\"Variables defined correctly!\")"
   ]
  },
  {
   "cell_type": "markdown",
   "metadata": {},
   "source": [
    "# Function to Load Single Data File\n",
    "\n",
    "This function reads a single CSV file and loads it into a Pandas DataFrame."
   ]
  },
  {
   "cell_type": "code",
   "execution_count": 2,
   "metadata": {},
   "outputs": [],
   "source": [
    "def load_single_data(file_path):\n",
    "    df = pd.read_csv(file_path, delimiter=';')\n",
    "    print(f\"File {file_path} read correctly.\")\n",
    "    return df"
   ]
  },
  {
   "cell_type": "markdown",
   "metadata": {},
   "source": [
    "# Function to Load Multiple Files Automatically\n",
    "\n",
    "This function reads multiple CSV files from a directory based on a base name and an index."
   ]
  },
  {
   "cell_type": "code",
   "execution_count": null,
   "metadata": {},
   "outputs": [],
   "source": [
    "def load_multiple_files(directory_path, base_name):\n",
    "    # Initialize the index\n",
    "    i = 1\n",
    "\n",
    "    # List to hold the DataFrames\n",
    "    dataframes = []\n",
    "\n",
    "    while True:\n",
    "        # Construct the file name with leading zeros\n",
    "        file_name = f\"{base_name}{i:02d}.csv\"\n",
    "        file_path = os.path.join(directory_path, file_name)\n",
    "\n",
    "        # Check if the file exists\n",
    "        if os.path.exists(file_path):\n",
    "            # Read the CSV file\n",
    "            df = pd.read_csv(file_path, delimiter=';')\n",
    "            dataframes.append(df)\n",
    "            print(f\"Read file: {file_name}\")\n",
    "        else:\n",
    "            # Break the loop if the file does not exist\n",
    "            print(f\"File not found: {file_name}. Stopping the loop.\")\n",
    "            break\n",
    "\n",
    "        # Increment the index\n",
    "        i += 1\n",
    "\n",
    "    return dataframes"
   ]
  },
  {
   "cell_type": "markdown",
   "metadata": {},
   "source": [
    "## Function to Remove a Column if it Contains a Specific Cell Value\n",
    "\n",
    "This function removes a column from the DataFrame if any of its cells contain a specified string or numeric value."
   ]
  },
  {
   "cell_type": "code",
   "execution_count": null,
   "metadata": {},
   "outputs": [],
   "source": [
    "def remove_column_if_contains(df, value):\n",
    "    \"\"\"\n",
    "    Remove columns if any cell in the column contains the specified value.\n",
    "\n",
    "    Parameters:\n",
    "    df (pd.DataFrame): The DataFrame to modify.\n",
    "    value (str or int or float): The value to check for in the cells.\n",
    "\n",
    "    Returns:\n",
    "    pd.DataFrame: The modified DataFrame with columns removed.\n",
    "    \"\"\"\n",
    "    cols_to_remove = [col for col in df.columns if df[col].astype(str).str.contains(str(value)).any()]\n",
    "    df = df.drop(columns=cols_to_remove)\n",
    "    print(f\"Columns containing the value '{value}' removed successfully: {cols_to_remove}\")\n",
    "    return df"
   ]
  },
  {
   "cell_type": "markdown",
   "metadata": {},
   "source": [
    "## Function to Remove a Row if it Contains a Specific Cell Value\n",
    "\n",
    "This function removes rows from the DataFrame if any cell in the row contains a specified string or numeric value."
   ]
  },
  {
   "cell_type": "code",
   "execution_count": null,
   "metadata": {},
   "outputs": [],
   "source": [
    "def remove_row_if_contains(df, value):\n",
    "    \"\"\"\n",
    "    Remove rows if any cell in the row contains the specified value.\n",
    "\n",
    "    Parameters:\n",
    "    df (pd.DataFrame): The DataFrame to modify.\n",
    "    value (str or int or float): The value to check for in the cells.\n",
    "\n",
    "    Returns:\n",
    "    pd.DataFrame: The modified DataFrame with rows removed.\n",
    "    \"\"\"\n",
    "    initial_row_count = len(df)\n",
    "    df = df[~df.applymap(lambda x: str(value) in str(x)).any(axis=1)]\n",
    "    final_row_count = len(df)\n",
    "    rows_removed = initial_row_count - final_row_count\n",
    "    print(f\"Rows containing the value '{value}' removed successfully: {rows_removed}\")\n",
    "    return df"
   ]
  },
  {
   "cell_type": "markdown",
   "metadata": {},
   "source": [
    "# Function to Get Column Based on Value\n",
    "\n",
    "This function identifies and returns a column that contains a specified value."
   ]
  },
  {
   "cell_type": "code",
   "execution_count": null,
   "metadata": {},
   "outputs": [],
   "source": [
    "def get_column_by_value(df, value):\n",
    "    for col in df.columns:\n",
    "        if df[col].astype(str).str.contains(str(value)).any():\n",
    "            print(f\"Column '{col}' contains the value '{value}'.\")\n",
    "            return df[col]\n",
    "    print(f\"No column contains the value '{value}'.\")\n",
    "    return None"
   ]
  },
  {
   "cell_type": "markdown",
   "metadata": {},
   "source": [
    "# Function to Remove Column Based on Value\n",
    "\n",
    "This function removes a column from the DataFrame if any of its cells contain a specified string or numeric value."
   ]
  },
  {
   "cell_type": "code",
   "execution_count": null,
   "metadata": {},
   "outputs": [],
   "source": [
    "def remove_column_if_contains(df, value):\n",
    "    cols_to_remove = [col for col in df.columns if df[col].astype(str).str.contains(str(value)).any()]\n",
    "    df = df.drop(columns=cols_to_remove)\n",
    "    print(f\"Columns containing the value '{value}' removed successfully: {cols_to_remove}\")\n",
    "    return df"
   ]
  },
  {
   "cell_type": "markdown",
   "metadata": {},
   "source": [
    "# Function to Get Row Based on Value\n",
    "\n",
    "This function identifies and returns a row that contains a specified value."
   ]
  },
  {
   "cell_type": "code",
   "execution_count": null,
   "metadata": {},
   "outputs": [],
   "source": [
    "def get_row_by_value(df, value):\n",
    "    rows = df[df.applymap(lambda x: str(value) in str(x))]\n",
    "    if not rows.empty:\n",
    "        print(f\"Row(s) containing the value '{value}' found.\")\n",
    "        return rows\n",
    "    print(f\"No row contains the value '{value}'.\")\n",
    "    return None"
   ]
  },
  {
   "cell_type": "markdown",
   "metadata": {},
   "source": [
    "# Function to Remove Row Based on Value\n",
    "\n",
    "This function removes rows from the DataFrame if any cell in the row contains a specified string or numeric value."
   ]
  },
  {
   "cell_type": "code",
   "execution_count": null,
   "metadata": {},
   "outputs": [],
   "source": [
    "def remove_row_if_contains(df, value):\n",
    "    initial_row_count = len(df)\n",
    "    df = df[~df.applymap(lambda x: str(value) in str(x)).any(axis=1)]\n",
    "    final_row_count = len(df)\n",
    "    rows_removed = initial_row_count - final_row_count\n",
    "    print(f\"Rows containing the value '{value}' removed successfully: {rows_removed}\")\n",
    "    return df"
   ]
  },
  {
   "cell_type": "markdown",
   "metadata": {},
   "source": [
    "# Perform Mathematical Operations\n",
    "\n",
    "This section performs basic mathematical operations between two columns."
   ]
  },
  {
   "cell_type": "code",
   "execution_count": null,
   "metadata": {},
   "outputs": [],
   "source": [
    "def perform_math_operation(df, colA, colB, operation='add'):\n",
    "    \"\"\"\n",
    "    Perform a mathematical operation between two columns.\n",
    "\n",
    "    Parameters:\n",
    "    df (pd.DataFrame): The DataFrame to modify.\n",
    "    colA (str): The name of the first column.\n",
    "    colB (str): The name of the second column.\n",
    "    operation (str): The mathematical operation to perform ('add', 'subtract', 'multiply', 'divide').\n",
    "\n",
    "    Returns:\n",
    "    pd.Series: The resulting column from the operation.\n",
    "    \"\"\"\n",
    "    if operation == 'add':\n",
    "        result = df[colA] + df[colB]\n",
    "    elif operation == 'subtract':\n",
    "        result = df[colA] - df[colB]\n",
    "    elif operation == 'multiply':\n",
    "        result = df[colA] * df[colB]\n",
    "    elif operation == 'divide':\n",
    "        result = df[colA] / df[colB]\n",
    "    else:\n",
    "        raise ValueError(\"Operation must be 'add', 'subtract', 'multiply', or 'divide'.\")\n",
    "    \n",
    "    print(f\"Operation '{operation}' between columns '{colA}' and '{colB}' performed successfully.\")\n",
    "    return result"
   ]
  },
  {
   "cell_type": "markdown",
   "metadata": {},
   "source": [
    "# Replace Existing Column\n",
    "\n",
    "This function replaces an existing column in the DataFrame with new values."
   ]
  },
  {
   "cell_type": "code",
   "execution_count": null,
   "metadata": {},
   "outputs": [],
   "source": [
    "def replace_column(df, col_name, new_values):\n",
    "    df[col_name] = new_values\n",
    "    print(f\"Column '{col_name}' replaced successfully.\")\n",
    "    return df"
   ]
  },
  {
   "cell_type": "markdown",
   "metadata": {},
   "source": [
    "# Create New Column\n",
    "\n",
    "This function creates a new column in the DataFrame with specified values."
   ]
  },
  {
   "cell_type": "code",
   "execution_count": null,
   "metadata": {},
   "outputs": [],
   "source": [
    "def create_new_column(df, new_col_name, values):\n",
    "    df[new_col_name] = values\n",
    "    print(f\"New column '{new_col_name}' created successfully.\")\n",
    "    return df"
   ]
  },
  {
   "cell_type": "markdown",
   "metadata": {},
   "source": [
    "# Create New DataFrame and File\n",
    "\n",
    "This function creates a new DataFrame and saves it to a CSV file."
   ]
  },
  {
   "cell_type": "code",
   "execution_count": null,
   "metadata": {},
   "outputs": [],
   "source": [
    "def create_new_dataframe_and_save(df, new_col_name, values, new_file_path):\n",
    "    new_df = df.copy()\n",
    "    new_df[new_col_name] = values\n",
    "    new_df.to_csv(new_file_path, index=False)\n",
    "    print(f\"New DataFrame with column '{new_col_name}' saved to '{new_file_path}' successfully.\")\n",
    "    return new_df"
   ]
  }
 ],
 "metadata": {
  "kernelspec": {
   "display_name": "Python 3",
   "language": "python",
   "name": "python3"
  },
  "language_info": {
   "codemirror_mode": {
    "name": "ipython",
    "version": 3
   },
   "file_extension": ".py",
   "mimetype": "text/x-python",
   "name": "python",
   "nbconvert_exporter": "python",
   "pygments_lexer": "ipython3",
   "version": "3.10.13"
  }
 },
 "nbformat": 4,
 "nbformat_minor": 2
}

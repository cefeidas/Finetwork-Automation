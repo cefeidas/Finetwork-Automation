{
 "cells": [
  {
   "cell_type": "markdown",
   "metadata": {},
   "source": [
    "# Skeleton Notebook\n",
    "\n",
    "This notebook contains general transformations that can be reused across different projects.\n",
    "\n",
    "## Import Necessary Libraries\n",
    "\n",
    "The following libraries are essential for data processing and should be included in every module."
   ]
  },
  {
   "cell_type": "code",
   "execution_count": 8,
   "metadata": {},
   "outputs": [
    {
     "name": "stdout",
     "output_type": "stream",
     "text": [
      "Skeleton setup complete!\n"
     ]
    }
   ],
   "source": [
    "# Import necessary libraries\n",
    "import pandas as pd\n",
    "import os\n",
    "import re\n",
    "\n",
    "print(\"Skeleton setup complete!\")"
   ]
  },
  {
   "cell_type": "markdown",
   "metadata": {},
   "source": [
    "# Define Variables\n",
    "\n",
    "Set the variables for file paths, base names, and other configurations. Update these variables for each specific project."
   ]
  },
  {
   "cell_type": "code",
   "execution_count": null,
   "metadata": {},
   "outputs": [],
   "source": [
    "# Base name for the CSV files (change this for each project)\n",
    "base_name = '8.'\n",
    "\n",
    "# Path to the directory containing the CSV files (change this for each project)\n",
    "directory_path = '/workspaces/Finetwork-Automation/sample_folder'\n",
    "\n",
    "# Path for a single file (example, change as needed)\n",
    "single_file_path = os.path.join(directory_path, f\"{base_name}01.csv\")\n",
    "\n",
    "print(\"Variables defined correctly!\")"
   ]
  },
  {
   "cell_type": "markdown",
   "metadata": {},
   "source": [
    "# Function to Load Single Data File\n",
    "\n",
    "This function reads a single CSV file and loads it into a Pandas DataFrame."
   ]
  },
  {
   "cell_type": "code",
   "execution_count": 2,
   "metadata": {},
   "outputs": [],
   "source": [
    "def load_single_data(file_path):\n",
    "    df = pd.read_csv(file_path, delimiter=';')\n",
    "    print(f\"File {file_path} read correctly.\")\n",
    "    return df"
   ]
  },
  {
   "cell_type": "markdown",
   "metadata": {},
   "source": [
    "# Function to Load Multiple Files Automatically\n",
    "\n",
    "This function reads multiple CSV files from a directory based on a base name and an index."
   ]
  },
  {
   "cell_type": "code",
   "execution_count": null,
   "metadata": {},
   "outputs": [],
   "source": [
    "def load_multiple_files(directory_path, base_name):\n",
    "    # Initialize the index\n",
    "    i = 1\n",
    "\n",
    "    # List to hold the DataFrames\n",
    "    dataframes = []\n",
    "\n",
    "    while True:\n",
    "        # Construct the file name with leading zeros\n",
    "        file_name = f\"{base_name}{i:02d}.csv\"\n",
    "        file_path = os.path.join(directory_path, file_name)\n",
    "\n",
    "        # Check if the file exists\n",
    "        if os.path.exists(file_path):\n",
    "            # Read the CSV file\n",
    "            df = pd.read_csv(file_path, delimiter=';')\n",
    "            dataframes.append(df)\n",
    "            print(f\"Read file: {file_name}\")\n",
    "        else:\n",
    "            # Break the loop if the file does not exist\n",
    "            print(f\"File not found: {file_name}. Stopping the loop.\")\n",
    "            break\n",
    "\n",
    "        # Increment the index\n",
    "        i += 1\n",
    "\n",
    "    return dataframes"
   ]
  },
  {
   "cell_type": "markdown",
   "metadata": {},
   "source": []
  }
 ],
 "metadata": {
  "kernelspec": {
   "display_name": "Python 3",
   "language": "python",
   "name": "python3"
  },
  "language_info": {
   "codemirror_mode": {
    "name": "ipython",
    "version": 3
   },
   "file_extension": ".py",
   "mimetype": "text/x-python",
   "name": "python",
   "nbconvert_exporter": "python",
   "pygments_lexer": "ipython3",
   "version": "3.10.13"
  }
 },
 "nbformat": 4,
 "nbformat_minor": 2
}

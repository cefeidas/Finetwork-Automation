{
 "cells": [
  {
   "cell_type": "markdown",
   "metadata": {},
   "source": [
    "## Library Installation\n",
    "\n",
    "Ensure that the necessary libraries are installed before running the notebook."
   ]
  },
  {
   "cell_type": "code",
   "execution_count": 1,
   "metadata": {},
   "outputs": [
    {
     "name": "stdout",
     "output_type": "stream",
     "text": [
      "Requirement already satisfied: openpyxl in /usr/local/python/3.10.13/lib/python3.10/site-packages (3.1.5)\n",
      "Requirement already satisfied: et-xmlfile in /usr/local/python/3.10.13/lib/python3.10/site-packages (from openpyxl) (1.1.0)\n",
      "\n",
      "\u001b[1m[\u001b[0m\u001b[34;49mnotice\u001b[0m\u001b[1;39;49m]\u001b[0m\u001b[39;49m A new release of pip is available: \u001b[0m\u001b[31;49m24.1.2\u001b[0m\u001b[39;49m -> \u001b[0m\u001b[32;49m24.2\u001b[0m\n",
      "\u001b[1m[\u001b[0m\u001b[34;49mnotice\u001b[0m\u001b[1;39;49m]\u001b[0m\u001b[39;49m To update, run: \u001b[0m\u001b[32;49mpython -m pip install --upgrade pip\u001b[0m\n",
      "Note: you may need to restart the kernel to use updated packages.\n",
      "Skeleton setup complete!\n"
     ]
    }
   ],
   "source": [
    "# Import necessary libraries\n",
    "%pip install openpyxl\n",
    "from openpyxl import load_workbook\n",
    "import pandas as pd\n",
    "import os\n",
    "import re\n",
    "import itertools\n",
    "\n",
    "print(\"Skeleton setup complete!\")"
   ]
  },
  {
   "cell_type": "markdown",
   "metadata": {},
   "source": [
    "## Variable Declaration\n",
    "\n",
    "Set the variables for file paths, sheet names, and other configurations. Update these variables for each specific project."
   ]
  },
  {
   "cell_type": "code",
   "execution_count": 2,
   "metadata": {},
   "outputs": [
    {
     "name": "stdout",
     "output_type": "stream",
     "text": [
      "Variables defined correctly!\n"
     ]
    }
   ],
   "source": [
    "# Path to the Excel file (change this for each project)\n",
    "excel_file_path = '/workspaces/Finetwork-Automation/retention/CARGA SERVICIOS.xlsx'\n",
    "csv_file_path = '/workspaces/Finetwork-Automation/inbound/Informe de métricas históricas.csv'\n",
    "\n",
    "# Range to read (change this for each project)\n",
    "start_row = 5\n",
    "end_row = 30\n",
    "usecols = 'A:B'\n",
    "\n",
    "print(\"Variables defined correctly!\")"
   ]
  },
  {
   "cell_type": "markdown",
   "metadata": {},
   "source": [
    "## Extract Data from all six Sheets\n",
    "\n",
    "Extract data from all three Sheets within the specified range and convert it directly to a DataFrame."
   ]
  },
  {
   "cell_type": "code",
   "execution_count": 3,
   "metadata": {},
   "outputs": [
    {
     "name": "stdout",
     "output_type": "stream",
     "text": [
      "Data from 'CT PORTA' sheet loaded successfully.\n",
      "CT PORTA DataFrame:\n"
     ]
    },
    {
     "data": {
      "text/html": [
       "<div>\n",
       "<style scoped>\n",
       "    .dataframe tbody tr th:only-of-type {\n",
       "        vertical-align: middle;\n",
       "    }\n",
       "\n",
       "    .dataframe tbody tr th {\n",
       "        vertical-align: top;\n",
       "    }\n",
       "\n",
       "    .dataframe thead th {\n",
       "        text-align: right;\n",
       "    }\n",
       "</style>\n",
       "<table border=\"1\" class=\"dataframe\">\n",
       "  <thead>\n",
       "    <tr style=\"text-align: right;\">\n",
       "      <th></th>\n",
       "      <th>Etiquetas de fila</th>\n",
       "      <th>Cuenta de Agente Respuesta N1</th>\n",
       "    </tr>\n",
       "  </thead>\n",
       "  <tbody>\n",
       "    <tr>\n",
       "      <th>0</th>\n",
       "      <td>Carmen Romero</td>\n",
       "      <td>2</td>\n",
       "    </tr>\n",
       "    <tr>\n",
       "      <th>1</th>\n",
       "      <td>Irene Mateos</td>\n",
       "      <td>1</td>\n",
       "    </tr>\n",
       "    <tr>\n",
       "      <th>2</th>\n",
       "      <td>Pedro Manzanero</td>\n",
       "      <td>2</td>\n",
       "    </tr>\n",
       "    <tr>\n",
       "      <th>3</th>\n",
       "      <td>Total general</td>\n",
       "      <td>5</td>\n",
       "    </tr>\n",
       "  </tbody>\n",
       "</table>\n",
       "</div>"
      ],
      "text/plain": [
       "  Etiquetas de fila  Cuenta de Agente Respuesta N1\n",
       "0     Carmen Romero                              2\n",
       "1      Irene Mateos                              1\n",
       "2   Pedro Manzanero                              2\n",
       "3     Total general                              5"
      ]
     },
     "metadata": {},
     "output_type": "display_data"
    }
   ],
   "source": [
    "def load_sheet_as_dataframe(file_path, sheet_name, start_row, end_row, usecols):\n",
    "    # Load data from the specified sheet and range into a DataFrame\n",
    "    df = pd.read_excel(file_path, sheet_name=sheet_name, usecols=usecols, skiprows=start_row-1, nrows=end_row-start_row+1)\n",
    "    print(f\"Data from '{sheet_name}' sheet loaded successfully.\")\n",
    "    return df\n",
    "\n",
    "# Extract data from 'Active' sheet\n",
    "ct_porta_df = load_sheet_as_dataframe(excel_file_path, 'CT PORTA', start_row, end_row, usecols)\n",
    "\n",
    "# Display the DataFrames\n",
    "print(\"CT PORTA DataFrame:\")\n",
    "display(ct_porta_df.head())"
   ]
  },
  {
   "cell_type": "markdown",
   "metadata": {},
   "source": [
    "## Load Agents List\n",
    "\n",
    "Load the list of all agents from the \"Agents\" sheet."
   ]
  },
  {
   "cell_type": "code",
   "execution_count": 4,
   "metadata": {},
   "outputs": [
    {
     "name": "stdout",
     "output_type": "stream",
     "text": [
      "Agents list loaded successfully!\n",
      "['Maria Jose  Moreno', 'Irene Mateos', 'Maria Jesus Bruno', 'Carmen Romero', 'Pedro Manzanero', 'Virginia Aragon', 'Tamara Conde', 'Rosa Vilches', 'Manuel Cabra']\n"
     ]
    }
   ],
   "source": [
    "# Load the list of agents\n",
    "agents_df = pd.read_excel(excel_file_path, sheet_name='AGENTES PORTA', usecols='A')\n",
    "agents_list = agents_df.iloc[:, 0].tolist()\n",
    "print(\"Agents list loaded successfully!\")\n",
    "print(agents_list)"
   ]
  },
  {
   "cell_type": "markdown",
   "metadata": {},
   "source": [
    "## Verify and Complete Data\n",
    "\n",
    "Verify that all agents are present in each DataFrame. If an agent is missing, add a row with zeros for that agent."
   ]
  },
  {
   "cell_type": "code",
   "execution_count": 5,
   "metadata": {},
   "outputs": [
    {
     "name": "stdout",
     "output_type": "stream",
     "text": [
      "Added 6 missing agents and removed -5 agents not in the list.\n",
      "CT PORTA DataFrame after ensuring all agents:\n"
     ]
    },
    {
     "data": {
      "text/html": [
       "<div>\n",
       "<style scoped>\n",
       "    .dataframe tbody tr th:only-of-type {\n",
       "        vertical-align: middle;\n",
       "    }\n",
       "\n",
       "    .dataframe tbody tr th {\n",
       "        vertical-align: top;\n",
       "    }\n",
       "\n",
       "    .dataframe thead th {\n",
       "        text-align: right;\n",
       "    }\n",
       "</style>\n",
       "<table border=\"1\" class=\"dataframe\">\n",
       "  <thead>\n",
       "    <tr style=\"text-align: right;\">\n",
       "      <th></th>\n",
       "      <th>Etiquetas de fila</th>\n",
       "      <th>Cuenta de Agente Respuesta N1</th>\n",
       "    </tr>\n",
       "  </thead>\n",
       "  <tbody>\n",
       "    <tr>\n",
       "      <th>0</th>\n",
       "      <td>Carmen Romero</td>\n",
       "      <td>2</td>\n",
       "    </tr>\n",
       "    <tr>\n",
       "      <th>1</th>\n",
       "      <td>Irene Mateos</td>\n",
       "      <td>1</td>\n",
       "    </tr>\n",
       "    <tr>\n",
       "      <th>2</th>\n",
       "      <td>Pedro Manzanero</td>\n",
       "      <td>2</td>\n",
       "    </tr>\n",
       "    <tr>\n",
       "      <th>4</th>\n",
       "      <td>Maria Jose  Moreno</td>\n",
       "      <td>0</td>\n",
       "    </tr>\n",
       "    <tr>\n",
       "      <th>5</th>\n",
       "      <td>Maria Jesus Bruno</td>\n",
       "      <td>0</td>\n",
       "    </tr>\n",
       "    <tr>\n",
       "      <th>6</th>\n",
       "      <td>Virginia Aragon</td>\n",
       "      <td>0</td>\n",
       "    </tr>\n",
       "    <tr>\n",
       "      <th>7</th>\n",
       "      <td>Tamara Conde</td>\n",
       "      <td>0</td>\n",
       "    </tr>\n",
       "    <tr>\n",
       "      <th>8</th>\n",
       "      <td>Rosa Vilches</td>\n",
       "      <td>0</td>\n",
       "    </tr>\n",
       "    <tr>\n",
       "      <th>9</th>\n",
       "      <td>Manuel Cabra</td>\n",
       "      <td>0</td>\n",
       "    </tr>\n",
       "  </tbody>\n",
       "</table>\n",
       "</div>"
      ],
      "text/plain": [
       "    Etiquetas de fila  Cuenta de Agente Respuesta N1\n",
       "0       Carmen Romero                              2\n",
       "1        Irene Mateos                              1\n",
       "2     Pedro Manzanero                              2\n",
       "4  Maria Jose  Moreno                              0\n",
       "5   Maria Jesus Bruno                              0\n",
       "6     Virginia Aragon                              0\n",
       "7        Tamara Conde                              0\n",
       "8        Rosa Vilches                              0\n",
       "9        Manuel Cabra                              0"
      ]
     },
     "metadata": {},
     "output_type": "display_data"
    }
   ],
   "source": [
    "def ensure_all_agents(df, agents_list):\n",
    "    \"\"\"\n",
    "    Ensure all agents are present in the DataFrame. Add missing agents with zero values and remove agents not in the list.\n",
    "    \n",
    "    Parameters:\n",
    "    df (pd.DataFrame): The DataFrame to check and update.\n",
    "    agents_list (list): The list of all agents.\n",
    "    \n",
    "    Returns:\n",
    "    pd.DataFrame: The updated DataFrame with all agents.\n",
    "    \"\"\"\n",
    "    # Get the list of agents in the DataFrame\n",
    "    existing_agents = df.iloc[:, 0].tolist()\n",
    "    \n",
    "    # Find missing agents\n",
    "    missing_agents = [agent for agent in agents_list if agent not in existing_agents]\n",
    "    \n",
    "    # Add rows for missing agents with zero values\n",
    "    for agent in missing_agents:\n",
    "        zero_row = pd.DataFrame([[agent] + [0] * (df.shape[1] - 1)], columns=df.columns)\n",
    "        df = pd.concat([df, zero_row], ignore_index=True)\n",
    "    \n",
    "    # Remove agents not in the agents list\n",
    "    df = df[df.iloc[:, 0].isin(agents_list)]\n",
    "    \n",
    "    print(f\"Added {len(missing_agents)} missing agents and removed {len(existing_agents) - len(df)} agents not in the list.\")\n",
    "    return df\n",
    "\n",
    "# Apply the function to each DataFrame\n",
    "ct_porta_df = ensure_all_agents(ct_porta_df, agents_list)\n",
    "\n",
    "# Display the updated DataFrames\n",
    "print(\"CT PORTA DataFrame after ensuring all agents:\")\n",
    "display(ct_porta_df.head(15))"
   ]
  },
  {
   "cell_type": "markdown",
   "metadata": {},
   "source": [
    "## Assign Values to Emails\n",
    "\n",
    "Assign numerical values to each email and add them as a new column in the DataFrames."
   ]
  },
  {
   "cell_type": "code",
   "execution_count": 9,
   "metadata": {},
   "outputs": [
    {
     "name": "stdout",
     "output_type": "stream",
     "text": [
      "CT PORTA DataFrame with email values:\n"
     ]
    },
    {
     "data": {
      "text/html": [
       "<div>\n",
       "<style scoped>\n",
       "    .dataframe tbody tr th:only-of-type {\n",
       "        vertical-align: middle;\n",
       "    }\n",
       "\n",
       "    .dataframe tbody tr th {\n",
       "        vertical-align: top;\n",
       "    }\n",
       "\n",
       "    .dataframe thead th {\n",
       "        text-align: right;\n",
       "    }\n",
       "</style>\n",
       "<table border=\"1\" class=\"dataframe\">\n",
       "  <thead>\n",
       "    <tr style=\"text-align: right;\">\n",
       "      <th></th>\n",
       "      <th>Etiquetas de fila</th>\n",
       "      <th>Cuenta de Agente Respuesta N1</th>\n",
       "      <th>email_value</th>\n",
       "    </tr>\n",
       "  </thead>\n",
       "  <tbody>\n",
       "    <tr>\n",
       "      <th>0</th>\n",
       "      <td>Carmen Romero</td>\n",
       "      <td>2</td>\n",
       "      <td>4.0</td>\n",
       "    </tr>\n",
       "    <tr>\n",
       "      <th>1</th>\n",
       "      <td>Irene Mateos</td>\n",
       "      <td>1</td>\n",
       "      <td>2.0</td>\n",
       "    </tr>\n",
       "    <tr>\n",
       "      <th>2</th>\n",
       "      <td>Pedro Manzanero</td>\n",
       "      <td>2</td>\n",
       "      <td>5.0</td>\n",
       "    </tr>\n",
       "    <tr>\n",
       "      <th>4</th>\n",
       "      <td>Maria Jose  Moreno</td>\n",
       "      <td>0</td>\n",
       "      <td>NaN</td>\n",
       "    </tr>\n",
       "    <tr>\n",
       "      <th>5</th>\n",
       "      <td>Maria Jesus Bruno</td>\n",
       "      <td>0</td>\n",
       "      <td>3.0</td>\n",
       "    </tr>\n",
       "    <tr>\n",
       "      <th>6</th>\n",
       "      <td>Virginia Aragon</td>\n",
       "      <td>0</td>\n",
       "      <td>6.0</td>\n",
       "    </tr>\n",
       "    <tr>\n",
       "      <th>7</th>\n",
       "      <td>Tamara Conde</td>\n",
       "      <td>0</td>\n",
       "      <td>7.0</td>\n",
       "    </tr>\n",
       "    <tr>\n",
       "      <th>8</th>\n",
       "      <td>Rosa Vilches</td>\n",
       "      <td>0</td>\n",
       "      <td>8.0</td>\n",
       "    </tr>\n",
       "    <tr>\n",
       "      <th>9</th>\n",
       "      <td>Manuel Cabra</td>\n",
       "      <td>0</td>\n",
       "      <td>9.0</td>\n",
       "    </tr>\n",
       "  </tbody>\n",
       "</table>\n",
       "</div>"
      ],
      "text/plain": [
       "    Etiquetas de fila  Cuenta de Agente Respuesta N1  email_value\n",
       "0       Carmen Romero                              2          4.0\n",
       "1        Irene Mateos                              1          2.0\n",
       "2     Pedro Manzanero                              2          5.0\n",
       "4  Maria Jose  Moreno                              0          NaN\n",
       "5   Maria Jesus Bruno                              0          3.0\n",
       "6     Virginia Aragon                              0          6.0\n",
       "7        Tamara Conde                              0          7.0\n",
       "8        Rosa Vilches                              0          8.0\n",
       "9        Manuel Cabra                              0          9.0"
      ]
     },
     "metadata": {},
     "output_type": "display_data"
    }
   ],
   "source": [
    "# Dictionary mapping emails to their respective values\n",
    "email_values = {\n",
    "    'Maria Jose Moreno': 55,\n",
    "    'Irene Mateos': 2,\n",
    "    'Maria Jesus Bruno': 3,\n",
    "    'Carmen Romero': 4,\n",
    "    'Pedro Manzanero': 5,\n",
    "    'Virginia Aragon': 6,\n",
    "    'Tamara Conde': 7,\n",
    "    'Rosa Vilches': 8,\n",
    "    'Manuel Cabra': 9\n",
    "}\n",
    "\n",
    "# Add a new column to each DataFrame with the email values\n",
    "def add_email_values(df, email_values):\n",
    "    df['email_value'] = df.iloc[:, 0].map(email_values)\n",
    "    return df\n",
    "\n",
    "# Apply the function to each DataFrame\n",
    "ct_porta_df = add_email_values(ct_porta_df, email_values)\n",
    "\n",
    "# Display the updated DataFrames with the new 'email_value' column\n",
    "print(\"CT PORTA DataFrame with email values:\")\n",
    "display(ct_porta_df.head(15))"
   ]
  }
 ],
 "metadata": {
  "kernelspec": {
   "display_name": "Python 3",
   "language": "python",
   "name": "python3"
  },
  "language_info": {
   "codemirror_mode": {
    "name": "ipython",
    "version": 3
   },
   "file_extension": ".py",
   "mimetype": "text/x-python",
   "name": "python",
   "nbconvert_exporter": "python",
   "pygments_lexer": "ipython3",
   "version": "3.10.13"
  }
 },
 "nbformat": 4,
 "nbformat_minor": 2
}

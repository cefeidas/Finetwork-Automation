{
 "cells": [
  {
   "cell_type": "markdown",
   "metadata": {},
   "source": [
    "## Library Installation\n",
    "\n",
    "Ensure that the necessary libraries are installed before running the notebook."
   ]
  },
  {
   "cell_type": "code",
   "execution_count": 1,
   "metadata": {},
   "outputs": [
    {
     "name": "stdout",
     "output_type": "stream",
     "text": [
      "Requirement already satisfied: openpyxl in /usr/local/python/3.10.13/lib/python3.10/site-packages (3.1.5)\n",
      "Requirement already satisfied: et-xmlfile in /usr/local/python/3.10.13/lib/python3.10/site-packages (from openpyxl) (1.1.0)\n",
      "\n",
      "\u001b[1m[\u001b[0m\u001b[34;49mnotice\u001b[0m\u001b[1;39;49m]\u001b[0m\u001b[39;49m A new release of pip is available: \u001b[0m\u001b[31;49m24.1.2\u001b[0m\u001b[39;49m -> \u001b[0m\u001b[32;49m24.2\u001b[0m\n",
      "\u001b[1m[\u001b[0m\u001b[34;49mnotice\u001b[0m\u001b[1;39;49m]\u001b[0m\u001b[39;49m To update, run: \u001b[0m\u001b[32;49mpython -m pip install --upgrade pip\u001b[0m\n",
      "Note: you may need to restart the kernel to use updated packages.\n",
      "Skeleton setup complete!\n"
     ]
    }
   ],
   "source": [
    "# Import necessary libraries\n",
    "%pip install openpyxl\n",
    "from openpyxl import load_workbook\n",
    "import pandas as pd\n",
    "import os\n",
    "import re\n",
    "import itertools\n",
    "\n",
    "print(\"Skeleton setup complete!\")"
   ]
  },
  {
   "cell_type": "markdown",
   "metadata": {},
   "source": [
    "## Variable Declaration\n",
    "\n",
    "Set the variables for file paths, sheet names, and other configurations. Update these variables for each specific project."
   ]
  },
  {
   "cell_type": "code",
   "execution_count": 2,
   "metadata": {},
   "outputs": [
    {
     "name": "stdout",
     "output_type": "stream",
     "text": [
      "Variables defined correctly!\n"
     ]
    }
   ],
   "source": [
    "# Path to the Excel file (change this for each project)\n",
    "excel_sales_file_path = '/workspaces/Finetwork-Automation/OUT Amazon Volte TV/Metabaseout.xlsx'\n",
    "excel_calls_file_path = '/workspaces/Finetwork-Automation/OUT Amazon Volte TV/REGISTRO LLAMADAS AMAZON.xlsx'\n",
    "final_excel_file_path = '/workspaces/Finetwork-Automation/OUT Amazon Volte TV/CDM FIDELIZACION + POTENCIALES ACTUALIZADO.xlsx'\n",
    "\n",
    "\n",
    "# Sheet names in calls Excel for different categories\n",
    "sheet_calls_brute = 'BRUTO'\n",
    "sheet_calls_net = 'NETO'\n",
    "sheet_amazon = 'AMAZON'\n",
    "\n",
    "print(\"Variables defined correctly!\")"
   ]
  },
  {
   "cell_type": "markdown",
   "metadata": {},
   "source": [
    "## Extract Data"
   ]
  },
  {
   "cell_type": "code",
   "execution_count": 3,
   "metadata": {},
   "outputs": [
    {
     "name": "stdout",
     "output_type": "stream",
     "text": [
      "Data from 'BRUTO' sheet loaded successfully.\n",
      "Data from 'NETO' sheet loaded successfully.\n",
      "Data from 'AMAZON' sheet loaded successfully.\n",
      "Brute calls DataFrame:\n"
     ]
    },
    {
     "data": {
      "text/html": [
       "<div>\n",
       "<style scoped>\n",
       "    .dataframe tbody tr th:only-of-type {\n",
       "        vertical-align: middle;\n",
       "    }\n",
       "\n",
       "    .dataframe tbody tr th {\n",
       "        vertical-align: top;\n",
       "    }\n",
       "\n",
       "    .dataframe thead th {\n",
       "        text-align: right;\n",
       "    }\n",
       "</style>\n",
       "<table border=\"1\" class=\"dataframe\">\n",
       "  <thead>\n",
       "    <tr style=\"text-align: right;\">\n",
       "      <th></th>\n",
       "      <th>Etiquetas de fila</th>\n",
       "      <th>Cuenta de agentName</th>\n",
       "    </tr>\n",
       "  </thead>\n",
       "  <tbody>\n",
       "    <tr>\n",
       "      <th>0</th>\n",
       "      <td>Raquel Duran</td>\n",
       "      <td>138.0</td>\n",
       "    </tr>\n",
       "    <tr>\n",
       "      <th>1</th>\n",
       "      <td>(en blanco)</td>\n",
       "      <td>NaN</td>\n",
       "    </tr>\n",
       "    <tr>\n",
       "      <th>2</th>\n",
       "      <td>Elisabeth Ladesa</td>\n",
       "      <td>270.0</td>\n",
       "    </tr>\n",
       "    <tr>\n",
       "      <th>3</th>\n",
       "      <td>Macarena Albarran</td>\n",
       "      <td>261.0</td>\n",
       "    </tr>\n",
       "    <tr>\n",
       "      <th>4</th>\n",
       "      <td>Total general</td>\n",
       "      <td>669.0</td>\n",
       "    </tr>\n",
       "  </tbody>\n",
       "</table>\n",
       "</div>"
      ],
      "text/plain": [
       "   Etiquetas de fila  Cuenta de agentName\n",
       "0       Raquel Duran                138.0\n",
       "1        (en blanco)                  NaN\n",
       "2   Elisabeth Ladesa                270.0\n",
       "3  Macarena Albarran                261.0\n",
       "4      Total general                669.0"
      ]
     },
     "metadata": {},
     "output_type": "display_data"
    },
    {
     "name": "stdout",
     "output_type": "stream",
     "text": [
      "Net calls DataFrame:\n"
     ]
    },
    {
     "data": {
      "text/html": [
       "<div>\n",
       "<style scoped>\n",
       "    .dataframe tbody tr th:only-of-type {\n",
       "        vertical-align: middle;\n",
       "    }\n",
       "\n",
       "    .dataframe tbody tr th {\n",
       "        vertical-align: top;\n",
       "    }\n",
       "\n",
       "    .dataframe thead th {\n",
       "        text-align: right;\n",
       "    }\n",
       "</style>\n",
       "<table border=\"1\" class=\"dataframe\">\n",
       "  <thead>\n",
       "    <tr style=\"text-align: right;\">\n",
       "      <th></th>\n",
       "      <th>Etiquetas de fila</th>\n",
       "      <th>Cuenta de agentName</th>\n",
       "    </tr>\n",
       "  </thead>\n",
       "  <tbody>\n",
       "    <tr>\n",
       "      <th>0</th>\n",
       "      <td>Raquel Duran</td>\n",
       "      <td>96.0</td>\n",
       "    </tr>\n",
       "    <tr>\n",
       "      <th>1</th>\n",
       "      <td>(en blanco)</td>\n",
       "      <td>NaN</td>\n",
       "    </tr>\n",
       "    <tr>\n",
       "      <th>2</th>\n",
       "      <td>Elisabeth Ladesa</td>\n",
       "      <td>81.0</td>\n",
       "    </tr>\n",
       "    <tr>\n",
       "      <th>3</th>\n",
       "      <td>Macarena Albarran</td>\n",
       "      <td>123.0</td>\n",
       "    </tr>\n",
       "    <tr>\n",
       "      <th>4</th>\n",
       "      <td>Total general</td>\n",
       "      <td>300.0</td>\n",
       "    </tr>\n",
       "  </tbody>\n",
       "</table>\n",
       "</div>"
      ],
      "text/plain": [
       "   Etiquetas de fila  Cuenta de agentName\n",
       "0       Raquel Duran                 96.0\n",
       "1        (en blanco)                  NaN\n",
       "2   Elisabeth Ladesa                 81.0\n",
       "3  Macarena Albarran                123.0\n",
       "4      Total general                300.0"
      ]
     },
     "metadata": {},
     "output_type": "display_data"
    },
    {
     "name": "stdout",
     "output_type": "stream",
     "text": [
      "Net calls DataFrame:\n"
     ]
    },
    {
     "data": {
      "text/html": [
       "<div>\n",
       "<style scoped>\n",
       "    .dataframe tbody tr th:only-of-type {\n",
       "        vertical-align: middle;\n",
       "    }\n",
       "\n",
       "    .dataframe tbody tr th {\n",
       "        vertical-align: top;\n",
       "    }\n",
       "\n",
       "    .dataframe thead th {\n",
       "        text-align: right;\n",
       "    }\n",
       "</style>\n",
       "<table border=\"1\" class=\"dataframe\">\n",
       "  <thead>\n",
       "    <tr style=\"text-align: right;\">\n",
       "      <th></th>\n",
       "      <th>Etiquetas de fila</th>\n",
       "      <th>Cuenta de agentName</th>\n",
       "    </tr>\n",
       "  </thead>\n",
       "  <tbody>\n",
       "    <tr>\n",
       "      <th>0</th>\n",
       "      <td>Raquel Duran</td>\n",
       "      <td>19</td>\n",
       "    </tr>\n",
       "    <tr>\n",
       "      <th>1</th>\n",
       "      <td>Elisabeth Ladesa</td>\n",
       "      <td>32</td>\n",
       "    </tr>\n",
       "    <tr>\n",
       "      <th>2</th>\n",
       "      <td>Macarena Albarran</td>\n",
       "      <td>41</td>\n",
       "    </tr>\n",
       "    <tr>\n",
       "      <th>3</th>\n",
       "      <td>Total general</td>\n",
       "      <td>92</td>\n",
       "    </tr>\n",
       "  </tbody>\n",
       "</table>\n",
       "</div>"
      ],
      "text/plain": [
       "   Etiquetas de fila  Cuenta de agentName\n",
       "0       Raquel Duran                   19\n",
       "1   Elisabeth Ladesa                   32\n",
       "2  Macarena Albarran                   41\n",
       "3      Total general                   92"
      ]
     },
     "metadata": {},
     "output_type": "display_data"
    }
   ],
   "source": [
    "start_row = 4\n",
    "end_row = 65\n",
    "\n",
    "def load_sheet_as_dataframe(file_path, sheet_name, start_row, end_row):\n",
    "    # Load data from the specified sheet and range into a DataFrame\n",
    "    df = pd.read_excel(file_path, sheet_name=sheet_name, skiprows=start_row-1, nrows=end_row-start_row+1)\n",
    "    print(f\"Data from '{sheet_name}' sheet loaded successfully.\")\n",
    "    return df\n",
    "\n",
    "# Extract data from 'Active' sheet\n",
    "calls_brute_df = load_sheet_as_dataframe(excel_calls_file_path, 'BRUTO', start_row, end_row)\n",
    "calls_net_df = load_sheet_as_dataframe(excel_calls_file_path, 'NETO', start_row, end_row)\n",
    "calls_amazon_df = load_sheet_as_dataframe(excel_calls_file_path, 'AMAZON', start_row, end_row)\n",
    "\n",
    "print(\"Brute calls DataFrame:\")\n",
    "display(calls_brute_df.head())\n",
    "\n",
    "print(\"Net calls DataFrame:\")\n",
    "display(calls_net_df.head())\n",
    "\n",
    "print(\"Net calls DataFrame:\")\n",
    "display(calls_amazon_df.head())"
   ]
  },
  {
   "cell_type": "markdown",
   "metadata": {},
   "source": [
    "## Load Agents names for calls List\n",
    "\n",
    "Load the list of all agents from the \"Agents\" sheet."
   ]
  },
  {
   "cell_type": "code",
   "execution_count": 4,
   "metadata": {},
   "outputs": [
    {
     "name": "stdout",
     "output_type": "stream",
     "text": [
      "Agents list loaded successfully!\n",
      "['arodriguez.out', 'canselmo.out', 'cgarcia', 'fgonzalez.out', 'jminero.prexfy', 'jcmartinez.out', 'lbellido.out', 'mccarrasco.out', 'sgarcia.out', 'varagon']\n"
     ]
    }
   ],
   "source": [
    "# Load the list of agents\n",
    "agents_calls_df = pd.read_excel(excel_sales_file_path, sheet_name='AGENTES CALLS', usecols='A')\n",
    "agents_calls_list = agents_calls_df.iloc[:, 0].tolist()\n",
    "print(\"Agents list loaded successfully!\")\n",
    "print(agents_calls_list)"
   ]
  }
 ],
 "metadata": {
  "kernelspec": {
   "display_name": "Python 3",
   "language": "python",
   "name": "python3"
  },
  "language_info": {
   "codemirror_mode": {
    "name": "ipython",
    "version": 3
   },
   "file_extension": ".py",
   "mimetype": "text/x-python",
   "name": "python",
   "nbconvert_exporter": "python",
   "pygments_lexer": "ipython3",
   "version": "3.10.13"
  }
 },
 "nbformat": 4,
 "nbformat_minor": 2
}

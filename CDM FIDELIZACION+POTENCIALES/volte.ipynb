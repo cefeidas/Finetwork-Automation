{
 "cells": [
  {
   "cell_type": "markdown",
   "metadata": {},
   "source": [
    "## Library Installation\n",
    "\n",
    "Ensure that the necessary libraries are installed before running the notebook."
   ]
  },
  {
   "cell_type": "code",
   "execution_count": null,
   "metadata": {},
   "outputs": [],
   "source": [
    "# Import necessary libraries\n",
    "%pip install openpyxl\n",
    "from openpyxl import load_workbook\n",
    "import pandas as pd\n",
    "import os\n",
    "import re\n",
    "import itertools\n",
    "\n",
    "print(\"Skeleton setup complete!\")"
   ]
  },
  {
   "cell_type": "markdown",
   "metadata": {},
   "source": [
    "## Variable Declaration\n",
    "\n",
    "Set the variables for file paths, sheet names, and other configurations. Update these variables for each specific project."
   ]
  },
  {
   "cell_type": "code",
   "execution_count": 1,
   "metadata": {},
   "outputs": [
    {
     "name": "stdout",
     "output_type": "stream",
     "text": [
      "Variables defined correctly!\n"
     ]
    }
   ],
   "source": [
    "# Path to the Excel file (change this for each project)\n",
    "excel_sales_file_path = '/workspaces/Finetwork-Automation/OUT Amazon Volte TV/Metabaseout.xlsx'\n",
    "excel_calls_file_path = '/workspaces/Finetwork-Automation/OUT Amazon Volte TV/REGISTRO LLAMADAS TV.xlsx'\n",
    "final_excel_file_path = '/workspaces/Finetwork-Automation/OUT Amazon Volte TV/CDM FIDELIZACION + POTENCIALES ACTUALIZADO.xlsx'\n",
    "\n",
    "\n",
    "# Sheet names in calls Excel for different categories\n",
    "sheet_calls_brute = 'BRUTO'\n",
    "sheet_calls_net = 'NETO'\n",
    "\n",
    "print(\"Variables defined correctly!\")"
   ]
  },
  {
   "cell_type": "markdown",
   "metadata": {},
   "source": [
    "## Extract data"
   ]
  },
  {
   "cell_type": "code",
   "execution_count": null,
   "metadata": {},
   "outputs": [],
   "source": [
    "start_row = 4\n",
    "end_row = 65\n",
    "\n",
    "def load_sheet_as_dataframe(file_path, sheet_name, start_row, end_row):\n",
    "    # Load data from the specified sheet and range into a DataFrame\n",
    "    df = pd.read_excel(file_path, sheet_name=sheet_name, skiprows=start_row-1, nrows=end_row-start_row+1)\n",
    "    print(f\"Data from '{sheet_name}' sheet loaded successfully.\")\n",
    "    return df\n",
    "\n",
    "# Extract data from 'Active' sheet\n",
    "calls_brute_df = load_sheet_as_dataframe(excel_calls_file_path, 'BRUTO', start_row, end_row)\n",
    "calls_net_df = load_sheet_as_dataframe(excel_calls_file_path, 'NETO', start_row, end_row)\n",
    "\n",
    "print(\"Brute calls DataFrame:\")\n",
    "display(calls_brute_df.head())\n",
    "\n",
    "print(\"Net calls DataFrame:\")\n",
    "display(calls_net_df.head())"
   ]
  }
 ],
 "metadata": {
  "kernelspec": {
   "display_name": "Python 3",
   "language": "python",
   "name": "python3"
  },
  "language_info": {
   "codemirror_mode": {
    "name": "ipython",
    "version": 3
   },
   "file_extension": ".py",
   "mimetype": "text/x-python",
   "name": "python",
   "nbconvert_exporter": "python",
   "pygments_lexer": "ipython3",
   "version": "3.10.13"
  }
 },
 "nbformat": 4,
 "nbformat_minor": 2
}

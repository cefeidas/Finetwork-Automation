{
 "cells": [
  {
   "cell_type": "markdown",
   "metadata": {},
   "source": [
    "## Library Installation\n",
    "\n",
    "Ensure that the necessary libraries are installed before running the notebook."
   ]
  },
  {
   "cell_type": "code",
   "execution_count": 2,
   "metadata": {},
   "outputs": [
    {
     "name": "stdout",
     "output_type": "stream",
     "text": [
      "Requirement already satisfied: openpyxl in /usr/local/python/3.10.13/lib/python3.10/site-packages (3.1.5)\n",
      "Requirement already satisfied: et-xmlfile in /usr/local/python/3.10.13/lib/python3.10/site-packages (from openpyxl) (1.1.0)\n",
      "\n",
      "\u001b[1m[\u001b[0m\u001b[34;49mnotice\u001b[0m\u001b[1;39;49m]\u001b[0m\u001b[39;49m A new release of pip is available: \u001b[0m\u001b[31;49m24.1.2\u001b[0m\u001b[39;49m -> \u001b[0m\u001b[32;49m24.2\u001b[0m\n",
      "\u001b[1m[\u001b[0m\u001b[34;49mnotice\u001b[0m\u001b[1;39;49m]\u001b[0m\u001b[39;49m To update, run: \u001b[0m\u001b[32;49mpython -m pip install --upgrade pip\u001b[0m\n",
      "Note: you may need to restart the kernel to use updated packages.\n",
      "Skeleton setup complete!\n"
     ]
    }
   ],
   "source": [
    "# Import necessary libraries\n",
    "%pip install openpyxl\n",
    "from openpyxl import load_workbook\n",
    "import pandas as pd\n",
    "import os\n",
    "import re\n",
    "import itertools\n",
    "\n",
    "print(\"Skeleton setup complete!\")"
   ]
  },
  {
   "cell_type": "markdown",
   "metadata": {},
   "source": [
    "## Variable Declaration\n",
    "\n",
    "Set the variables for file paths, sheet names, and other configurations. Update these variables for each specific project."
   ]
  },
  {
   "cell_type": "code",
   "execution_count": 3,
   "metadata": {},
   "outputs": [
    {
     "name": "stdout",
     "output_type": "stream",
     "text": [
      "Variables defined correctly!\n"
     ]
    }
   ],
   "source": [
    "# Path to the Excel file (change this for each project)\n",
    "excel_sales_file_path = '/workspaces/Finetwork-Automation/OUT Amazon Volte TV/Metabaseout.xlsx'\n",
    "excel_calls_file_path = '/workspaces/Finetwork-Automation/OUT Amazon Volte TV/REGISTRO LLAMADAS TV.xlsx'\n",
    "final_excel_file_path = '/workspaces/Finetwork-Automation/OUT Amazon Volte TV/CDM FIDELIZACION + POTENCIALES ACTUALIZADO.xlsx'\n",
    "\n",
    "\n",
    "# Sheet names in calls Excel for different categories\n",
    "sheet_calls_brute = 'BRUTA'\n",
    "sheet_calls_net = 'NETA'\n",
    "sheet_cancelled = 'VENTAS'\n",
    "\n",
    "print(\"Variables defined correctly!\")"
   ]
  },
  {
   "cell_type": "markdown",
   "metadata": {},
   "source": [
    "## Extract Data"
   ]
  },
  {
   "cell_type": "code",
   "execution_count": 6,
   "metadata": {},
   "outputs": [
    {
     "name": "stdout",
     "output_type": "stream",
     "text": [
      "Data from 'BRUTA' sheet loaded successfully.\n",
      "Data from 'NETA' sheet loaded successfully.\n",
      "Data from 'VENTAS' sheet loaded successfully.\n",
      "Brute calls DataFrame:\n"
     ]
    },
    {
     "data": {
      "text/html": [
       "<div>\n",
       "<style scoped>\n",
       "    .dataframe tbody tr th:only-of-type {\n",
       "        vertical-align: middle;\n",
       "    }\n",
       "\n",
       "    .dataframe tbody tr th {\n",
       "        vertical-align: top;\n",
       "    }\n",
       "\n",
       "    .dataframe thead th {\n",
       "        text-align: right;\n",
       "    }\n",
       "</style>\n",
       "<table border=\"1\" class=\"dataframe\">\n",
       "  <thead>\n",
       "    <tr style=\"text-align: right;\">\n",
       "      <th></th>\n",
       "      <th>Etiquetas de fila</th>\n",
       "      <th>Cuenta de agentName</th>\n",
       "    </tr>\n",
       "  </thead>\n",
       "  <tbody>\n",
       "    <tr>\n",
       "      <th>0</th>\n",
       "      <td>(en blanco)</td>\n",
       "      <td>NaN</td>\n",
       "    </tr>\n",
       "    <tr>\n",
       "      <th>1</th>\n",
       "      <td>Macarena Morilla</td>\n",
       "      <td>194.0</td>\n",
       "    </tr>\n",
       "    <tr>\n",
       "      <th>2</th>\n",
       "      <td>Sarai Rufo</td>\n",
       "      <td>285.0</td>\n",
       "    </tr>\n",
       "    <tr>\n",
       "      <th>3</th>\n",
       "      <td>Juan Pedro Madrid</td>\n",
       "      <td>299.0</td>\n",
       "    </tr>\n",
       "    <tr>\n",
       "      <th>4</th>\n",
       "      <td>Alejandra Bonet</td>\n",
       "      <td>79.0</td>\n",
       "    </tr>\n",
       "  </tbody>\n",
       "</table>\n",
       "</div>"
      ],
      "text/plain": [
       "   Etiquetas de fila  Cuenta de agentName\n",
       "0        (en blanco)                  NaN\n",
       "1   Macarena Morilla                194.0\n",
       "2         Sarai Rufo                285.0\n",
       "3  Juan Pedro Madrid                299.0\n",
       "4    Alejandra Bonet                 79.0"
      ]
     },
     "metadata": {},
     "output_type": "display_data"
    },
    {
     "name": "stdout",
     "output_type": "stream",
     "text": [
      "Net calls DataFrame:\n"
     ]
    },
    {
     "data": {
      "text/html": [
       "<div>\n",
       "<style scoped>\n",
       "    .dataframe tbody tr th:only-of-type {\n",
       "        vertical-align: middle;\n",
       "    }\n",
       "\n",
       "    .dataframe tbody tr th {\n",
       "        vertical-align: top;\n",
       "    }\n",
       "\n",
       "    .dataframe thead th {\n",
       "        text-align: right;\n",
       "    }\n",
       "</style>\n",
       "<table border=\"1\" class=\"dataframe\">\n",
       "  <thead>\n",
       "    <tr style=\"text-align: right;\">\n",
       "      <th></th>\n",
       "      <th>Etiquetas de fila</th>\n",
       "      <th>Cuenta de agentName</th>\n",
       "    </tr>\n",
       "  </thead>\n",
       "  <tbody>\n",
       "    <tr>\n",
       "      <th>0</th>\n",
       "      <td>(en blanco)</td>\n",
       "      <td>NaN</td>\n",
       "    </tr>\n",
       "    <tr>\n",
       "      <th>1</th>\n",
       "      <td>Macarena Morilla</td>\n",
       "      <td>45.0</td>\n",
       "    </tr>\n",
       "    <tr>\n",
       "      <th>2</th>\n",
       "      <td>Sarai Rufo</td>\n",
       "      <td>94.0</td>\n",
       "    </tr>\n",
       "    <tr>\n",
       "      <th>3</th>\n",
       "      <td>Juan Pedro Madrid</td>\n",
       "      <td>80.0</td>\n",
       "    </tr>\n",
       "    <tr>\n",
       "      <th>4</th>\n",
       "      <td>Alejandra Bonet</td>\n",
       "      <td>11.0</td>\n",
       "    </tr>\n",
       "  </tbody>\n",
       "</table>\n",
       "</div>"
      ],
      "text/plain": [
       "   Etiquetas de fila  Cuenta de agentName\n",
       "0        (en blanco)                  NaN\n",
       "1   Macarena Morilla                 45.0\n",
       "2         Sarai Rufo                 94.0\n",
       "3  Juan Pedro Madrid                 80.0\n",
       "4    Alejandra Bonet                 11.0"
      ]
     },
     "metadata": {},
     "output_type": "display_data"
    },
    {
     "name": "stdout",
     "output_type": "stream",
     "text": [
      "Net calls DataFrame:\n"
     ]
    },
    {
     "data": {
      "text/html": [
       "<div>\n",
       "<style scoped>\n",
       "    .dataframe tbody tr th:only-of-type {\n",
       "        vertical-align: middle;\n",
       "    }\n",
       "\n",
       "    .dataframe tbody tr th {\n",
       "        vertical-align: top;\n",
       "    }\n",
       "\n",
       "    .dataframe thead th {\n",
       "        text-align: right;\n",
       "    }\n",
       "</style>\n",
       "<table border=\"1\" class=\"dataframe\">\n",
       "  <thead>\n",
       "    <tr style=\"text-align: right;\">\n",
       "      <th></th>\n",
       "      <th>Etiquetas de fila</th>\n",
       "      <th>Cuenta de agentName</th>\n",
       "    </tr>\n",
       "  </thead>\n",
       "  <tbody>\n",
       "    <tr>\n",
       "      <th>0</th>\n",
       "      <td>Macarena Morilla</td>\n",
       "      <td>5</td>\n",
       "    </tr>\n",
       "    <tr>\n",
       "      <th>1</th>\n",
       "      <td>Sarai Rufo</td>\n",
       "      <td>5</td>\n",
       "    </tr>\n",
       "    <tr>\n",
       "      <th>2</th>\n",
       "      <td>Juan Pedro Madrid</td>\n",
       "      <td>3</td>\n",
       "    </tr>\n",
       "    <tr>\n",
       "      <th>3</th>\n",
       "      <td>Alejandra Bonet</td>\n",
       "      <td>1</td>\n",
       "    </tr>\n",
       "    <tr>\n",
       "      <th>4</th>\n",
       "      <td>Total general</td>\n",
       "      <td>14</td>\n",
       "    </tr>\n",
       "  </tbody>\n",
       "</table>\n",
       "</div>"
      ],
      "text/plain": [
       "   Etiquetas de fila  Cuenta de agentName\n",
       "0   Macarena Morilla                    5\n",
       "1         Sarai Rufo                    5\n",
       "2  Juan Pedro Madrid                    3\n",
       "3    Alejandra Bonet                    1\n",
       "4      Total general                   14"
      ]
     },
     "metadata": {},
     "output_type": "display_data"
    }
   ],
   "source": [
    "start_row = 4\n",
    "end_row = 65\n",
    "\n",
    "def load_sheet_as_dataframe(file_path, sheet_name, start_row, end_row):\n",
    "    # Load data from the specified sheet and range into a DataFrame\n",
    "    df = pd.read_excel(file_path, sheet_name=sheet_name, skiprows=start_row-1, nrows=end_row-start_row+1)\n",
    "    print(f\"Data from '{sheet_name}' sheet loaded successfully.\")\n",
    "    return df\n",
    "\n",
    "# Extract data from 'Active' sheet\n",
    "calls_brute_df = load_sheet_as_dataframe(excel_calls_file_path, 'BRUTA', start_row, end_row)\n",
    "calls_net_df = load_sheet_as_dataframe(excel_calls_file_path, 'NETA', start_row, end_row)\n",
    "calls_tv_df = load_sheet_as_dataframe(excel_calls_file_path, 'VENTAS', start_row, end_row)\n",
    "\n",
    "print(\"Brute calls DataFrame:\")\n",
    "display(calls_brute_df.head())\n",
    "\n",
    "print(\"Net calls DataFrame:\")\n",
    "display(calls_net_df.head())\n",
    "\n",
    "print(\"Net calls DataFrame:\")\n",
    "display(calls_tv_df.head())"
   ]
  }
 ],
 "metadata": {
  "kernelspec": {
   "display_name": "Python 3",
   "language": "python",
   "name": "python3"
  },
  "language_info": {
   "codemirror_mode": {
    "name": "ipython",
    "version": 3
   },
   "file_extension": ".py",
   "mimetype": "text/x-python",
   "name": "python",
   "nbconvert_exporter": "python",
   "pygments_lexer": "ipython3",
   "version": "3.10.13"
  }
 },
 "nbformat": 4,
 "nbformat_minor": 2
}

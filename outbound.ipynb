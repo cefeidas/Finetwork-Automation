{
 "cells": [
  {
   "cell_type": "markdown",
   "metadata": {},
   "source": [
    "## Library Installation\n",
    "\n",
    "Ensure that the necessary libraries are installed before running the notebook."
   ]
  },
  {
   "cell_type": "code",
   "execution_count": null,
   "metadata": {},
   "outputs": [],
   "source": [
    "# Import necessary libraries\n",
    "%pip install openpyxl\n",
    "from openpyxl import load_workbook\n",
    "import pandas as pd\n",
    "import os\n",
    "import re\n",
    "import itertools\n",
    "\n",
    "print(\"Skeleton setup complete!\")"
   ]
  },
  {
   "cell_type": "markdown",
   "metadata": {},
   "source": [
    "## Variable Declaration\n",
    "\n",
    "Set the variables for file paths, sheet names, and other configurations. Update these variables for each specific project."
   ]
  },
  {
   "cell_type": "code",
   "execution_count": null,
   "metadata": {},
   "outputs": [],
   "source": [
    "# Path to the Excel file (change this for each project)\n",
    "excel_file_path = '/workspaces/Finetwork-Automation/inbound/Metabase.xlsx'\n",
    "csv_file_path = '/workspaces/Finetwork-Automation/inbound/Informe de métricas históricas.csv'\n",
    "\n",
    "# Sheet names for different categories\n",
    "sheet_active = 'ACTIVOS'\n",
    "sheet_canceled = 'CANCELADOS'\n",
    "sheet_pending = 'PTE DE FIRMA'\n",
    "sheet_value = 'TOP VALOR'\n",
    "sheet_packs = 'TOP PACKS'\n",
    "sheet_services = 'TOP SERVICIOS'\n",
    "\n",
    "# Range to read (change this for each project)\n",
    "start_row = 8\n",
    "end_row = 65\n",
    "usecols = 'A:AF'\n",
    "\n",
    "print(\"Variables defined correctly!\")"
   ]
  },
  {
   "cell_type": "markdown",
   "metadata": {},
   "source": []
  }
 ],
 "metadata": {
  "language_info": {
   "name": "python"
  }
 },
 "nbformat": 4,
 "nbformat_minor": 2
}
